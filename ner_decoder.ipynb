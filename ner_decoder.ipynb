{
  "nbformat": 4,
  "nbformat_minor": 0,
  "metadata": {
    "colab": {
      "name": "ner-decoder.ipynb",
      "provenance": [],
      "collapsed_sections": []
    },
    "kernelspec": {
      "name": "python3",
      "display_name": "Python 3"
    },
    "accelerator": "GPU"
  },
  "cells": [
    {
      "cell_type": "markdown",
      "metadata": {
        "id": "IsY0LJOIT_cG"
      },
      "source": [
        "# Implementing a Viterbi Decoder and Evaluation for Sequence Labeling\n",
        "\n",
        "In this assignment, you will build a Viterbi decoder for an LSTM named-entity recognition model. As we mentioned in class, recurrent and bidirectional recurrent neural networks, of which LSTMs are the most common examples, can be used to perform sequence labeling. Although these models encode information from the surrounding words in order to make predictions, there are no \"hard\" constraints on what tags can appear where.\n",
        "\n",
        "There hard constraints are particularly important for tasks that label spans of more than one token. The most common example of a span-labeling task is named-entity recognition (NER). As described in Eisenstein, Jurafksy & Martin, and other texts, the goal of NER is to label spans of one or more words as _mentions_ of an _entity_, such as a person, location, organization, etc.\n",
        "\n",
        "The most common approach to NER is to reduce it to a sequence-labeling task, where each token in the input is labeled either with an `O`, if it is \"outside\" any named-entity span, or with `B-TYPE`, if it is the first token in an entity of type `TYPE`, or with `I-TYPE`, if it is the second or later token in an entity of type `TYPE`. Distinguishing between the first and later tokens of an entity allow us to identify distinct entity spans even when they are adjacent.\n",
        "\n",
        "Common values of `TYPE` include `PER` for person, `LOC` for location, `DATE` for date, and so on. In the dataset we load below, there are 17 distinct types.\n",
        "\n",
        "The span-labeling scheme just described implies that the labels on tokens must obey certain constraints: the tag `I-PER` must follow either `B-PER` or another `I-PER`. It cannot follow `O`, `B-LOC`, or `I-LOC`, i.e., a tag for a different entity type. By themselves, LSTMs or bidirectional LSTMs cannot directly enforce these constraints. This is one reason why conditional random fields (CRFs), which _can_ enforce these constraints, are often layered on top of these recurrent models.\n",
        "\n",
        "In this assignment, you will implement the simplest possible CRF: a CRF so simple that it does not require any training. Rather, it will assign weight 1 to any sequence of tags that obeys the constraints and weight 0 to any sequence of tags that violates them. The inputs to the CRF, which are analogous to the emission probabilities in an HMM, will come from an LSTM.\n",
        "\n",
        "But first, in order to test your decoder, you will also implement some functions to evaluate the output of an NER system according to two metrics:\n",
        "1. You will count the number of _violations_ of the NER label constraints, i.e., how many times `I-TYPE` follows `O` or a tag of a different type or occurs at the beginning of a sentence. This number will be greater than 0 in the raw LSTM output, but should be 0 for your CRF output.\n",
        "1. You will compute the _span-level_ precision, recall, and F1 of NER output. Although the baseline LSTM was trained to achieve high _token-level_ accuracy, this metric can be misleadingly high, since so many tokens are correctly labeled `O`. In other words, what proportion of spans predicted by the model line up exactly with spans in the gold standard, and what proportion of spans in the gold standard were predicted by the model? Define _span_ as a sequence of tags that starts with a `B-TYPE` followed by zero or more `I-TYPE` tags. Sequences solely of `I-TYPE` tags don't count as spans.For more, see the original task definition: https://www.aclweb.org/anthology/W03-0419/.\n",
        "\n",
        "We start with loading some code and data and the describe your tasks in more detail."
      ]
    },
    {
      "cell_type": "markdown",
      "metadata": {
        "id": "Dhnn49QEU_Ik"
      },
      "source": [
        "## Set Up Dependencies and Definitions"
      ]
    },
    {
      "cell_type": "code",
      "metadata": {
        "id": "QJINX1MwOLBT",
        "colab": {
          "base_uri": "https://localhost:8080/"
        },
        "outputId": "25620101-d763-47c6-dd08-16d92f4d8dec"
      },
      "source": [
        "!pip install --upgrade spacy==2.1.0 allennlp==0.9.0\n",
        "import spacy"
      ],
      "execution_count": 1,
      "outputs": [
        {
          "output_type": "stream",
          "text": [
            "Collecting spacy==2.1.0\n",
            "\u001b[?25l  Downloading https://files.pythonhosted.org/packages/78/0f/ca790def675011f25bce8775cf9002b5085cd2288f85e891f70b32c18752/spacy-2.1.0-cp37-cp37m-manylinux1_x86_64.whl (27.7MB)\n",
            "\u001b[K     |████████████████████████████████| 27.7MB 112kB/s \n",
            "\u001b[?25hCollecting allennlp==0.9.0\n",
            "\u001b[?25l  Downloading https://files.pythonhosted.org/packages/bb/bb/041115d8bad1447080e5d1e30097c95e4b66e36074277afce8620a61cee3/allennlp-0.9.0-py3-none-any.whl (7.6MB)\n",
            "\u001b[K     |████████████████████████████████| 7.6MB 48.2MB/s \n",
            "\u001b[?25hCollecting preshed<2.1.0,>=2.0.1\n",
            "\u001b[?25l  Downloading https://files.pythonhosted.org/packages/bc/2b/3ecd5d90d2d6fd39fbc520de7d80db5d74defdc2d7c2e15531d9cc3498c7/preshed-2.0.1-cp37-cp37m-manylinux1_x86_64.whl (82kB)\n",
            "\u001b[K     |████████████████████████████████| 92kB 12.6MB/s \n",
            "\u001b[?25hRequirement already satisfied, skipping upgrade: cymem<2.1.0,>=2.0.2 in /usr/local/lib/python3.7/dist-packages (from spacy==2.1.0) (2.0.5)\n",
            "Collecting plac<1.0.0,>=0.9.6\n",
            "  Downloading https://files.pythonhosted.org/packages/9e/9b/62c60d2f5bc135d2aa1d8c8a86aaf84edb719a59c7f11a4316259e61a298/plac-0.9.6-py2.py3-none-any.whl\n",
            "Requirement already satisfied, skipping upgrade: requests<3.0.0,>=2.13.0 in /usr/local/lib/python3.7/dist-packages (from spacy==2.1.0) (2.23.0)\n",
            "Collecting blis<0.3.0,>=0.2.2\n",
            "\u001b[?25l  Downloading https://files.pythonhosted.org/packages/fa/5f/47b7b29ad202b2210020e2f33bfb06d1db2abe0e709c2a84736e8a9d1bd5/blis-0.2.4-cp37-cp37m-manylinux1_x86_64.whl (3.2MB)\n",
            "\u001b[K     |████████████████████████████████| 3.2MB 56.5MB/s \n",
            "\u001b[?25hRequirement already satisfied, skipping upgrade: wasabi<1.1.0,>=0.0.12 in /usr/local/lib/python3.7/dist-packages (from spacy==2.1.0) (0.8.2)\n",
            "Requirement already satisfied, skipping upgrade: murmurhash<1.1.0,>=0.28.0 in /usr/local/lib/python3.7/dist-packages (from spacy==2.1.0) (1.0.5)\n",
            "Collecting thinc<7.1.0,>=7.0.2\n",
            "\u001b[?25l  Downloading https://files.pythonhosted.org/packages/36/42/d7ea7539af3852fd8c1f0b3adf4a100fb3d72b40b69cef1a764ff979a743/thinc-7.0.8-cp37-cp37m-manylinux1_x86_64.whl (2.1MB)\n",
            "\u001b[K     |████████████████████████████████| 2.1MB 48.4MB/s \n",
            "\u001b[?25hRequirement already satisfied, skipping upgrade: numpy>=1.15.0 in /usr/local/lib/python3.7/dist-packages (from spacy==2.1.0) (1.19.5)\n",
            "Requirement already satisfied, skipping upgrade: jsonschema<3.0.0,>=2.6.0 in /usr/local/lib/python3.7/dist-packages (from spacy==2.1.0) (2.6.0)\n",
            "Requirement already satisfied, skipping upgrade: srsly<1.1.0,>=0.0.5 in /usr/local/lib/python3.7/dist-packages (from spacy==2.1.0) (1.0.5)\n",
            "Requirement already satisfied, skipping upgrade: nltk in /usr/local/lib/python3.7/dist-packages (from allennlp==0.9.0) (3.2.5)\n",
            "Requirement already satisfied, skipping upgrade: flask>=1.0.2 in /usr/local/lib/python3.7/dist-packages (from allennlp==0.9.0) (1.1.2)\n",
            "Collecting overrides\n",
            "  Downloading https://files.pythonhosted.org/packages/ff/b1/10f69c00947518e6676bbd43e739733048de64b8dd998e9c2d5a71f44c5d/overrides-3.1.0.tar.gz\n",
            "Requirement already satisfied, skipping upgrade: tqdm>=4.19 in /usr/local/lib/python3.7/dist-packages (from allennlp==0.9.0) (4.41.1)\n",
            "Collecting flaky\n",
            "  Downloading https://files.pythonhosted.org/packages/43/0e/2f50064e327f41a1eb811df089f813036e19a64b95e33f8e9e0b96c2447e/flaky-3.7.0-py2.py3-none-any.whl\n",
            "Collecting conllu==1.3.1\n",
            "  Downloading https://files.pythonhosted.org/packages/ae/54/b0ae1199f3d01666821b028cd967f7c0ac527ab162af433d3da69242cea2/conllu-1.3.1-py2.py3-none-any.whl\n",
            "Collecting pytorch-transformers==1.1.0\n",
            "\u001b[?25l  Downloading https://files.pythonhosted.org/packages/50/89/ad0d6bb932d0a51793eaabcf1617a36ff530dc9ab9e38f765a35dc293306/pytorch_transformers-1.1.0-py3-none-any.whl (158kB)\n",
            "\u001b[K     |████████████████████████████████| 163kB 52.6MB/s \n",
            "\u001b[?25hCollecting tensorboardX>=1.2\n",
            "\u001b[?25l  Downloading https://files.pythonhosted.org/packages/af/0c/4f41bcd45db376e6fe5c619c01100e9b7531c55791b7244815bac6eac32c/tensorboardX-2.1-py2.py3-none-any.whl (308kB)\n",
            "\u001b[K     |████████████████████████████████| 317kB 54.3MB/s \n",
            "\u001b[?25hCollecting flask-cors>=3.0.7\n",
            "  Downloading https://files.pythonhosted.org/packages/db/84/901e700de86604b1c4ef4b57110d4e947c218b9997adf5d38fa7da493bce/Flask_Cors-3.0.10-py2.py3-none-any.whl\n",
            "Requirement already satisfied, skipping upgrade: matplotlib>=2.2.3 in /usr/local/lib/python3.7/dist-packages (from allennlp==0.9.0) (3.2.2)\n",
            "Collecting word2number>=1.1\n",
            "  Downloading https://files.pythonhosted.org/packages/4a/29/a31940c848521f0725f0df6b25dca8917f13a2025b0e8fcbe5d0457e45e6/word2number-1.1.zip\n",
            "Requirement already satisfied, skipping upgrade: scipy in /usr/local/lib/python3.7/dist-packages (from allennlp==0.9.0) (1.4.1)\n",
            "Requirement already satisfied, skipping upgrade: h5py in /usr/local/lib/python3.7/dist-packages (from allennlp==0.9.0) (2.10.0)\n",
            "Requirement already satisfied, skipping upgrade: pytest in /usr/local/lib/python3.7/dist-packages (from allennlp==0.9.0) (3.6.4)\n",
            "Requirement already satisfied, skipping upgrade: editdistance in /usr/local/lib/python3.7/dist-packages (from allennlp==0.9.0) (0.5.3)\n",
            "Requirement already satisfied, skipping upgrade: scikit-learn in /usr/local/lib/python3.7/dist-packages (from allennlp==0.9.0) (0.22.2.post1)\n",
            "Collecting jsonpickle\n",
            "  Downloading https://files.pythonhosted.org/packages/bb/1a/f2db026d4d682303793559f1c2bb425ba3ec0d6fd7ac63397790443f2461/jsonpickle-2.0.0-py2.py3-none-any.whl\n",
            "Collecting parsimonious>=0.8.0\n",
            "\u001b[?25l  Downloading https://files.pythonhosted.org/packages/02/fc/067a3f89869a41009e1a7cdfb14725f8ddd246f30f63c645e8ef8a1c56f4/parsimonious-0.8.1.tar.gz (45kB)\n",
            "\u001b[K     |████████████████████████████████| 51kB 8.6MB/s \n",
            "\u001b[?25hCollecting responses>=0.7\n",
            "  Downloading https://files.pythonhosted.org/packages/a8/ba/03b4c978708510c2ab52a75804530edfd96647f3de44abe1cf25d16150ad/responses-0.13.2-py2.py3-none-any.whl\n",
            "Collecting boto3\n",
            "\u001b[?25l  Downloading https://files.pythonhosted.org/packages/67/9a/9fc8df4c16a83099cf0118836c145286c69206514ba0f6c8159b1f3fdbde/boto3-1.17.41-py2.py3-none-any.whl (131kB)\n",
            "\u001b[K     |████████████████████████████████| 133kB 56.1MB/s \n",
            "\u001b[?25hCollecting numpydoc>=0.8.0\n",
            "\u001b[?25l  Downloading https://files.pythonhosted.org/packages/60/1d/9e398c53d6ae27d5ab312ddc16a9ffe1bee0dfdf1d6ec88c40b0ca97582e/numpydoc-1.1.0-py3-none-any.whl (47kB)\n",
            "\u001b[K     |████████████████████████████████| 51kB 8.3MB/s \n",
            "\u001b[?25hCollecting gevent>=1.3.6\n",
            "\u001b[?25l  Downloading https://files.pythonhosted.org/packages/3e/85/df3d1fd2b60a87455475f93012861b76a411d27ba4a0859939adbe2c9dc3/gevent-21.1.2-cp37-cp37m-manylinux2010_x86_64.whl (5.6MB)\n",
            "\u001b[K     |████████████████████████████████| 5.6MB 45.4MB/s \n",
            "\u001b[?25hRequirement already satisfied, skipping upgrade: sqlparse>=0.2.4 in /usr/local/lib/python3.7/dist-packages (from allennlp==0.9.0) (0.4.1)\n",
            "Requirement already satisfied, skipping upgrade: torch>=1.2.0 in /usr/local/lib/python3.7/dist-packages (from allennlp==0.9.0) (1.8.1+cu101)\n",
            "Collecting pytorch-pretrained-bert>=0.6.0\n",
            "\u001b[?25l  Downloading https://files.pythonhosted.org/packages/d7/e0/c08d5553b89973d9a240605b9c12404bcf8227590de62bae27acbcfe076b/pytorch_pretrained_bert-0.6.2-py3-none-any.whl (123kB)\n",
            "\u001b[K     |████████████████████████████████| 133kB 59.4MB/s \n",
            "\u001b[?25hCollecting ftfy\n",
            "\u001b[?25l  Downloading https://files.pythonhosted.org/packages/04/06/e5c80e2e0f979628d47345efba51f7ba386fe95963b11c594209085f5a9b/ftfy-5.9.tar.gz (66kB)\n",
            "\u001b[K     |████████████████████████████████| 71kB 10.2MB/s \n",
            "\u001b[?25hCollecting jsonnet>=0.10.0; sys_platform != \"win32\"\n",
            "\u001b[?25l  Downloading https://files.pythonhosted.org/packages/42/40/6f16e5ac994b16fa71c24310f97174ce07d3a97b433275589265c6b94d2b/jsonnet-0.17.0.tar.gz (259kB)\n",
            "\u001b[K     |████████████████████████████████| 266kB 50.1MB/s \n",
            "\u001b[?25hCollecting unidecode\n",
            "\u001b[?25l  Downloading https://files.pythonhosted.org/packages/9e/25/723487ca2a52ebcee88a34d7d1f5a4b80b793f179ee0f62d5371938dfa01/Unidecode-1.2.0-py2.py3-none-any.whl (241kB)\n",
            "\u001b[K     |████████████████████████████████| 245kB 55.7MB/s \n",
            "\u001b[?25hRequirement already satisfied, skipping upgrade: pytz>=2017.3 in /usr/local/lib/python3.7/dist-packages (from allennlp==0.9.0) (2018.9)\n",
            "Requirement already satisfied, skipping upgrade: certifi>=2017.4.17 in /usr/local/lib/python3.7/dist-packages (from requests<3.0.0,>=2.13.0->spacy==2.1.0) (2020.12.5)\n",
            "Requirement already satisfied, skipping upgrade: urllib3!=1.25.0,!=1.25.1,<1.26,>=1.21.1 in /usr/local/lib/python3.7/dist-packages (from requests<3.0.0,>=2.13.0->spacy==2.1.0) (1.24.3)\n",
            "Requirement already satisfied, skipping upgrade: chardet<4,>=3.0.2 in /usr/local/lib/python3.7/dist-packages (from requests<3.0.0,>=2.13.0->spacy==2.1.0) (3.0.4)\n",
            "Requirement already satisfied, skipping upgrade: idna<3,>=2.5 in /usr/local/lib/python3.7/dist-packages (from requests<3.0.0,>=2.13.0->spacy==2.1.0) (2.10)\n",
            "Requirement already satisfied, skipping upgrade: six in /usr/local/lib/python3.7/dist-packages (from nltk->allennlp==0.9.0) (1.15.0)\n",
            "Requirement already satisfied, skipping upgrade: click>=5.1 in /usr/local/lib/python3.7/dist-packages (from flask>=1.0.2->allennlp==0.9.0) (7.1.2)\n",
            "Requirement already satisfied, skipping upgrade: Werkzeug>=0.15 in /usr/local/lib/python3.7/dist-packages (from flask>=1.0.2->allennlp==0.9.0) (1.0.1)\n",
            "Requirement already satisfied, skipping upgrade: Jinja2>=2.10.1 in /usr/local/lib/python3.7/dist-packages (from flask>=1.0.2->allennlp==0.9.0) (2.11.3)\n",
            "Requirement already satisfied, skipping upgrade: itsdangerous>=0.24 in /usr/local/lib/python3.7/dist-packages (from flask>=1.0.2->allennlp==0.9.0) (1.1.0)\n",
            "Requirement already satisfied, skipping upgrade: regex in /usr/local/lib/python3.7/dist-packages (from pytorch-transformers==1.1.0->allennlp==0.9.0) (2019.12.20)\n",
            "Collecting sentencepiece\n",
            "\u001b[?25l  Downloading https://files.pythonhosted.org/packages/f5/99/e0808cb947ba10f575839c43e8fafc9cc44e4a7a2c8f79c60db48220a577/sentencepiece-0.1.95-cp37-cp37m-manylinux2014_x86_64.whl (1.2MB)\n",
            "\u001b[K     |████████████████████████████████| 1.2MB 54.7MB/s \n",
            "\u001b[?25hRequirement already satisfied, skipping upgrade: protobuf>=3.8.0 in /usr/local/lib/python3.7/dist-packages (from tensorboardX>=1.2->allennlp==0.9.0) (3.12.4)\n",
            "Requirement already satisfied, skipping upgrade: pyparsing!=2.0.4,!=2.1.2,!=2.1.6,>=2.0.1 in /usr/local/lib/python3.7/dist-packages (from matplotlib>=2.2.3->allennlp==0.9.0) (2.4.7)\n",
            "Requirement already satisfied, skipping upgrade: cycler>=0.10 in /usr/local/lib/python3.7/dist-packages (from matplotlib>=2.2.3->allennlp==0.9.0) (0.10.0)\n",
            "Requirement already satisfied, skipping upgrade: kiwisolver>=1.0.1 in /usr/local/lib/python3.7/dist-packages (from matplotlib>=2.2.3->allennlp==0.9.0) (1.3.1)\n",
            "Requirement already satisfied, skipping upgrade: python-dateutil>=2.1 in /usr/local/lib/python3.7/dist-packages (from matplotlib>=2.2.3->allennlp==0.9.0) (2.8.1)\n",
            "Requirement already satisfied, skipping upgrade: setuptools in /usr/local/lib/python3.7/dist-packages (from pytest->allennlp==0.9.0) (54.2.0)\n",
            "Requirement already satisfied, skipping upgrade: attrs>=17.4.0 in /usr/local/lib/python3.7/dist-packages (from pytest->allennlp==0.9.0) (20.3.0)\n",
            "Requirement already satisfied, skipping upgrade: more-itertools>=4.0.0 in /usr/local/lib/python3.7/dist-packages (from pytest->allennlp==0.9.0) (8.7.0)\n",
            "Requirement already satisfied, skipping upgrade: pluggy<0.8,>=0.5 in /usr/local/lib/python3.7/dist-packages (from pytest->allennlp==0.9.0) (0.7.1)\n",
            "Requirement already satisfied, skipping upgrade: py>=1.5.0 in /usr/local/lib/python3.7/dist-packages (from pytest->allennlp==0.9.0) (1.10.0)\n",
            "Requirement already satisfied, skipping upgrade: atomicwrites>=1.0 in /usr/local/lib/python3.7/dist-packages (from pytest->allennlp==0.9.0) (1.4.0)\n",
            "Requirement already satisfied, skipping upgrade: joblib>=0.11 in /usr/local/lib/python3.7/dist-packages (from scikit-learn->allennlp==0.9.0) (1.0.1)\n",
            "Requirement already satisfied, skipping upgrade: importlib-metadata; python_version < \"3.8\" in /usr/local/lib/python3.7/dist-packages (from jsonpickle->allennlp==0.9.0) (3.8.1)\n",
            "Collecting jmespath<1.0.0,>=0.7.1\n",
            "  Downloading https://files.pythonhosted.org/packages/07/cb/5f001272b6faeb23c1c9e0acc04d48eaaf5c862c17709d20e3469c6e0139/jmespath-0.10.0-py2.py3-none-any.whl\n",
            "Collecting botocore<1.21.0,>=1.20.41\n",
            "\u001b[?25l  Downloading https://files.pythonhosted.org/packages/aa/54/4ea06a5c857e60750a67ad0d5e73e32e45ce065ebfa3da389432c4420de8/botocore-1.20.41-py2.py3-none-any.whl (7.4MB)\n",
            "\u001b[K     |████████████████████████████████| 7.4MB 50.7MB/s \n",
            "\u001b[?25hCollecting s3transfer<0.4.0,>=0.3.0\n",
            "\u001b[?25l  Downloading https://files.pythonhosted.org/packages/98/14/0b4be62b65c52d6d1c442f24e02d2a9889a73d3c352002e14c70f84a679f/s3transfer-0.3.6-py2.py3-none-any.whl (73kB)\n",
            "\u001b[K     |████████████████████████████████| 81kB 11.7MB/s \n",
            "\u001b[?25hRequirement already satisfied, skipping upgrade: sphinx>=1.6.5 in /usr/local/lib/python3.7/dist-packages (from numpydoc>=0.8.0->allennlp==0.9.0) (1.8.5)\n",
            "Requirement already satisfied, skipping upgrade: greenlet<2.0,>=0.4.17; platform_python_implementation == \"CPython\" in /usr/local/lib/python3.7/dist-packages (from gevent>=1.3.6->allennlp==0.9.0) (1.0.0)\n",
            "Collecting zope.event\n",
            "  Downloading https://files.pythonhosted.org/packages/9e/85/b45408c64f3b888976f1d5b37eed8d746b8d5729a66a49ec846fda27d371/zope.event-4.5.0-py2.py3-none-any.whl\n",
            "Collecting zope.interface\n",
            "\u001b[?25l  Downloading https://files.pythonhosted.org/packages/89/57/8a68360d697cf9159cba5ee35f2d25bdcda33883e8b5a997714a191a0b11/zope.interface-5.3.0-cp37-cp37m-manylinux2010_x86_64.whl (248kB)\n",
            "\u001b[K     |████████████████████████████████| 256kB 47.8MB/s \n",
            "\u001b[?25hRequirement already satisfied, skipping upgrade: typing-extensions in /usr/local/lib/python3.7/dist-packages (from torch>=1.2.0->allennlp==0.9.0) (3.7.4.3)\n",
            "Requirement already satisfied, skipping upgrade: wcwidth in /usr/local/lib/python3.7/dist-packages (from ftfy->allennlp==0.9.0) (0.2.5)\n",
            "Requirement already satisfied, skipping upgrade: MarkupSafe>=0.23 in /usr/local/lib/python3.7/dist-packages (from Jinja2>=2.10.1->flask>=1.0.2->allennlp==0.9.0) (1.1.1)\n",
            "Requirement already satisfied, skipping upgrade: zipp>=0.5 in /usr/local/lib/python3.7/dist-packages (from importlib-metadata; python_version < \"3.8\"->jsonpickle->allennlp==0.9.0) (3.4.1)\n",
            "Requirement already satisfied, skipping upgrade: Pygments>=2.0 in /usr/local/lib/python3.7/dist-packages (from sphinx>=1.6.5->numpydoc>=0.8.0->allennlp==0.9.0) (2.6.1)\n",
            "Requirement already satisfied, skipping upgrade: alabaster<0.8,>=0.7 in /usr/local/lib/python3.7/dist-packages (from sphinx>=1.6.5->numpydoc>=0.8.0->allennlp==0.9.0) (0.7.12)\n",
            "Requirement already satisfied, skipping upgrade: docutils>=0.11 in /usr/local/lib/python3.7/dist-packages (from sphinx>=1.6.5->numpydoc>=0.8.0->allennlp==0.9.0) (0.16)\n",
            "Requirement already satisfied, skipping upgrade: imagesize in /usr/local/lib/python3.7/dist-packages (from sphinx>=1.6.5->numpydoc>=0.8.0->allennlp==0.9.0) (1.2.0)\n",
            "Requirement already satisfied, skipping upgrade: packaging in /usr/local/lib/python3.7/dist-packages (from sphinx>=1.6.5->numpydoc>=0.8.0->allennlp==0.9.0) (20.9)\n",
            "Requirement already satisfied, skipping upgrade: snowballstemmer>=1.1 in /usr/local/lib/python3.7/dist-packages (from sphinx>=1.6.5->numpydoc>=0.8.0->allennlp==0.9.0) (2.1.0)\n",
            "Requirement already satisfied, skipping upgrade: babel!=2.0,>=1.3 in /usr/local/lib/python3.7/dist-packages (from sphinx>=1.6.5->numpydoc>=0.8.0->allennlp==0.9.0) (2.9.0)\n",
            "Requirement already satisfied, skipping upgrade: sphinxcontrib-websupport in /usr/local/lib/python3.7/dist-packages (from sphinx>=1.6.5->numpydoc>=0.8.0->allennlp==0.9.0) (1.2.4)\n",
            "Requirement already satisfied, skipping upgrade: sphinxcontrib-serializinghtml in /usr/local/lib/python3.7/dist-packages (from sphinxcontrib-websupport->sphinx>=1.6.5->numpydoc>=0.8.0->allennlp==0.9.0) (1.1.4)\n",
            "Building wheels for collected packages: overrides, word2number, parsimonious, ftfy, jsonnet\n",
            "  Building wheel for overrides (setup.py) ... \u001b[?25l\u001b[?25hdone\n",
            "  Created wheel for overrides: filename=overrides-3.1.0-cp37-none-any.whl size=10174 sha256=6563cc8e8ad373bf874bbb485acf0890c1ade1a2eb33e653bd3605104ba09fc1\n",
            "  Stored in directory: /root/.cache/pip/wheels/5c/24/13/6ef8600e6f147c95e595f1289a86a3cc82ed65df57582c65a9\n",
            "  Building wheel for word2number (setup.py) ... \u001b[?25l\u001b[?25hdone\n",
            "  Created wheel for word2number: filename=word2number-1.1-cp37-none-any.whl size=5589 sha256=752a9a16c61964b3448919e86e27f6b7bb63275ef0412b56259e699db4ceecc2\n",
            "  Stored in directory: /root/.cache/pip/wheels/46/2f/53/5f5c1d275492f2fce1cdab9a9bb12d49286dead829a4078e0e\n",
            "  Building wheel for parsimonious (setup.py) ... \u001b[?25l\u001b[?25hdone\n",
            "  Created wheel for parsimonious: filename=parsimonious-0.8.1-cp37-none-any.whl size=42711 sha256=2b11ca53f6da6231c5d7ea077c189afbca5ec9f296213a48109ed33791b4ed73\n",
            "  Stored in directory: /root/.cache/pip/wheels/b7/8d/e7/a0e74217da5caeb3c1c7689639b6d28ddbf9985b840bc96a9a\n",
            "  Building wheel for ftfy (setup.py) ... \u001b[?25l\u001b[?25hdone\n",
            "  Created wheel for ftfy: filename=ftfy-5.9-cp37-none-any.whl size=46451 sha256=a4f38109cc0ba6cc9d70348a2e79a6985f43189ec2fb9f4d65891a77cb06a4ce\n",
            "  Stored in directory: /root/.cache/pip/wheels/5e/2e/f0/b07196e8c929114998f0316894a61c752b63bfa3fdd50d2fc3\n",
            "  Building wheel for jsonnet (setup.py) ... \u001b[?25l\u001b[?25hdone\n",
            "  Created wheel for jsonnet: filename=jsonnet-0.17.0-cp37-cp37m-linux_x86_64.whl size=3388783 sha256=9f2a1874b0d08a4ece12a30b2285b39dd9045d55fd4f18cfb852c7c8c0d6a17e\n",
            "  Stored in directory: /root/.cache/pip/wheels/26/7a/37/7dbcc30a6b4efd17b91ad1f0128b7bbf84813bd4e1cfb8c1e3\n",
            "Successfully built overrides word2number parsimonious ftfy jsonnet\n",
            "\u001b[31mERROR: en-core-web-sm 2.2.5 has requirement spacy>=2.2.2, but you'll have spacy 2.1.0 which is incompatible.\u001b[0m\n",
            "\u001b[31mERROR: botocore 1.20.41 has requirement urllib3<1.27,>=1.25.4, but you'll have urllib3 1.24.3 which is incompatible.\u001b[0m\n",
            "\u001b[31mERROR: responses 0.13.2 has requirement urllib3>=1.25.10, but you'll have urllib3 1.24.3 which is incompatible.\u001b[0m\n",
            "Installing collected packages: preshed, plac, blis, thinc, spacy, overrides, flaky, conllu, jmespath, botocore, s3transfer, boto3, sentencepiece, pytorch-transformers, tensorboardX, flask-cors, word2number, jsonpickle, parsimonious, responses, numpydoc, zope.event, zope.interface, gevent, pytorch-pretrained-bert, ftfy, jsonnet, unidecode, allennlp\n",
            "  Found existing installation: preshed 3.0.5\n",
            "    Uninstalling preshed-3.0.5:\n",
            "      Successfully uninstalled preshed-3.0.5\n",
            "  Found existing installation: plac 1.1.3\n",
            "    Uninstalling plac-1.1.3:\n",
            "      Successfully uninstalled plac-1.1.3\n",
            "  Found existing installation: blis 0.4.1\n",
            "    Uninstalling blis-0.4.1:\n",
            "      Successfully uninstalled blis-0.4.1\n",
            "  Found existing installation: thinc 7.4.0\n",
            "    Uninstalling thinc-7.4.0:\n",
            "      Successfully uninstalled thinc-7.4.0\n",
            "  Found existing installation: spacy 2.2.4\n",
            "    Uninstalling spacy-2.2.4:\n",
            "      Successfully uninstalled spacy-2.2.4\n",
            "Successfully installed allennlp-0.9.0 blis-0.2.4 boto3-1.17.41 botocore-1.20.41 conllu-1.3.1 flaky-3.7.0 flask-cors-3.0.10 ftfy-5.9 gevent-21.1.2 jmespath-0.10.0 jsonnet-0.17.0 jsonpickle-2.0.0 numpydoc-1.1.0 overrides-3.1.0 parsimonious-0.8.1 plac-0.9.6 preshed-2.0.1 pytorch-pretrained-bert-0.6.2 pytorch-transformers-1.1.0 responses-0.13.2 s3transfer-0.3.6 sentencepiece-0.1.95 spacy-2.1.0 tensorboardX-2.1 thinc-7.0.8 unidecode-1.2.0 word2number-1.1 zope.event-4.5.0 zope.interface-5.3.0\n"
          ],
          "name": "stdout"
        }
      ]
    },
    {
      "cell_type": "code",
      "metadata": {
        "id": "f4zJfaIlJ2bv",
        "colab": {
          "base_uri": "https://localhost:8080/"
        },
        "outputId": "41825c3b-8411-48be-fdda-c316420207a1"
      },
      "source": [
        "from typing import Iterator, List, Dict\n",
        "import torch\n",
        "import torch.optim as optim\n",
        "import numpy as np\n",
        "from allennlp.data import Instance\n",
        "from allennlp.data.fields import TextField, SequenceLabelField\n",
        "from allennlp.data.dataset_readers import DatasetReader\n",
        "from allennlp.common.file_utils import cached_path\n",
        "from allennlp.data.token_indexers import TokenIndexer, SingleIdTokenIndexer\n",
        "from allennlp.data.tokenizers import Token\n",
        "from allennlp.data.vocabulary import Vocabulary\n",
        "from allennlp.models import Model\n",
        "from allennlp.modules.text_field_embedders import TextFieldEmbedder, BasicTextFieldEmbedder\n",
        "from allennlp.modules.token_embedders import Embedding\n",
        "from allennlp.modules.seq2seq_encoders import Seq2SeqEncoder, PytorchSeq2SeqWrapper\n",
        "from allennlp.nn.util import get_text_field_mask, sequence_cross_entropy_with_logits\n",
        "from allennlp.training.metrics import CategoricalAccuracy\n",
        "from allennlp.data.iterators import BucketIterator\n",
        "from allennlp.training.trainer import Trainer\n",
        "from allennlp.predictors import SentenceTaggerPredictor\n",
        "from allennlp.data.dataset_readers import conll2003\n",
        "\n",
        "torch.manual_seed(1)"
      ],
      "execution_count": 2,
      "outputs": [
        {
          "output_type": "execute_result",
          "data": {
            "text/plain": [
              "<torch._C.Generator at 0x7f5fe9040750>"
            ]
          },
          "metadata": {
            "tags": []
          },
          "execution_count": 2
        }
      ]
    },
    {
      "cell_type": "code",
      "metadata": {
        "id": "Qo16Ko0Gchxk"
      },
      "source": [
        "class LstmTagger(Model):\n",
        "  def __init__(self,\n",
        "               word_embeddings: TextFieldEmbedder,\n",
        "               encoder: Seq2SeqEncoder,\n",
        "               vocab: Vocabulary) -> None:\n",
        "    super().__init__(vocab)\n",
        "    self.word_embeddings = word_embeddings\n",
        "    self.encoder = encoder\n",
        "    self.hidden2tag = torch.nn.Linear(in_features=encoder.get_output_dim(),\n",
        "                                      out_features=vocab.get_vocab_size('labels'))\n",
        "    self.accuracy = CategoricalAccuracy()\n",
        "\n",
        "  def forward(self,\n",
        "              tokens: Dict[str, torch.Tensor],\n",
        "              metadata,\n",
        "              tags: torch.Tensor = None) -> Dict[str, torch.Tensor]:\n",
        "    mask = get_text_field_mask(tokens)\n",
        "    embeddings = self.word_embeddings(tokens)\n",
        "    encoder_out = self.encoder(embeddings, mask)\n",
        "    tag_logits = self.hidden2tag(encoder_out)\n",
        "    output = {\"tag_logits\": tag_logits}\n",
        "    if tags is not None:\n",
        "      self.accuracy(tag_logits, tags, mask)\n",
        "      output[\"loss\"] = sequence_cross_entropy_with_logits(tag_logits, tags, mask)\n",
        "\n",
        "    return output\n",
        "\n",
        "  def get_metrics(self, reset: bool = False) -> Dict[str, float]:\n",
        "    return {\"accuracy\": self.accuracy.get_metric(reset)}"
      ],
      "execution_count": 3,
      "outputs": []
    },
    {
      "cell_type": "markdown",
      "metadata": {
        "id": "mVdKvPftVVLt"
      },
      "source": [
        "## Import Data"
      ]
    },
    {
      "cell_type": "code",
      "metadata": {
        "id": "5sOVVZslKm3N",
        "colab": {
          "base_uri": "https://localhost:8080/"
        },
        "outputId": "1485b469-b358-4a51-8213-ecbac20408e8"
      },
      "source": [
        "reader = conll2003.Conll2003DatasetReader()\n",
        "train_dataset = reader.read(cached_path('http://www.ccs.neu.edu/home/dasmith/onto.train.ner.sample'))\n",
        "validation_dataset = reader.read(cached_path('http://www.ccs.neu.edu/home/dasmith/onto.development.ner.sample'))\n",
        "\n",
        "from itertools import chain\n",
        "vocab = Vocabulary.from_instances(chain(train_dataset, validation_dataset))"
      ],
      "execution_count": 4,
      "outputs": [
        {
          "output_type": "stream",
          "text": [
            "159377B [00:00, 36566686.10B/s]\n",
            "562it [00:00, 18457.00it/s]\n",
            "8366B [00:00, 2832772.04B/s]\n",
            "23it [00:00, 4237.23it/s]\n",
            "585it [00:00, 62850.10it/s]\n"
          ],
          "name": "stderr"
        }
      ]
    },
    {
      "cell_type": "markdown",
      "metadata": {
        "id": "wpg2Udr-Vnwm"
      },
      "source": [
        "## Define and Train Model"
      ]
    },
    {
      "cell_type": "code",
      "metadata": {
        "id": "8kDQQBMywdKx",
        "colab": {
          "base_uri": "https://localhost:8080/"
        },
        "outputId": "1651c1d8-a296-4a59-f598-427586e19c6e"
      },
      "source": [
        "EMBEDDING_DIM = 6\n",
        "HIDDEN_DIM = 6\n",
        "token_embedding = Embedding(num_embeddings=vocab.get_vocab_size('tokens'),\n",
        "                            embedding_dim=EMBEDDING_DIM)\n",
        "word_embeddings = BasicTextFieldEmbedder({\"tokens\": token_embedding})\n",
        "lstm = PytorchSeq2SeqWrapper(torch.nn.LSTM(EMBEDDING_DIM, HIDDEN_DIM, bidirectional=False, batch_first=True))\n",
        "model = LstmTagger(word_embeddings, lstm, vocab)\n",
        "if torch.cuda.is_available():\n",
        "    cuda_device = 0\n",
        "    model = model.cuda(cuda_device)\n",
        "else:\n",
        "    cuda_device = -1\n",
        "# optimizer = optim.AdamW(model.parameters(), lr=1e-4, eps=1e-8)\n",
        "optimizer = optim.SGD(model.parameters(), lr=0.1)\n",
        "iterator = BucketIterator(batch_size=2, sorting_keys=[(\"tokens\", \"num_tokens\")])\n",
        "iterator.index_with(vocab)\n",
        "trainer = Trainer(model=model,\n",
        "                  optimizer=optimizer,\n",
        "                  iterator=iterator,\n",
        "                  train_dataset=train_dataset,\n",
        "                  validation_dataset=validation_dataset,\n",
        "                  patience=10,\n",
        "                  num_epochs=100,\n",
        "                  cuda_device=cuda_device)\n",
        "trainer.train()"
      ],
      "execution_count": 5,
      "outputs": [
        {
          "output_type": "stream",
          "text": [
            "accuracy: 0.8442, loss: 0.9117 ||: 100%|██████████| 281/281 [00:01<00:00, 206.38it/s]\n",
            "accuracy: 0.7878, loss: 1.2057 ||: 100%|██████████| 12/12 [00:00<00:00, 488.81it/s]\n",
            "accuracy: 0.8442, loss: 0.7298 ||: 100%|██████████| 281/281 [00:01<00:00, 256.54it/s]\n",
            "accuracy: 0.7878, loss: 1.1862 ||: 100%|██████████| 12/12 [00:00<00:00, 392.86it/s]\n",
            "accuracy: 0.8442, loss: 0.7161 ||: 100%|██████████| 281/281 [00:01<00:00, 260.71it/s]\n",
            "accuracy: 0.7878, loss: 1.1740 ||: 100%|██████████| 12/12 [00:00<00:00, 444.63it/s]\n",
            "accuracy: 0.8442, loss: 0.7072 ||: 100%|██████████| 281/281 [00:01<00:00, 236.69it/s]\n",
            "accuracy: 0.7878, loss: 1.1768 ||: 100%|██████████| 12/12 [00:00<00:00, 509.77it/s]\n",
            "accuracy: 0.8442, loss: 0.6988 ||: 100%|██████████| 281/281 [00:01<00:00, 266.67it/s]\n",
            "accuracy: 0.7878, loss: 1.1745 ||: 100%|██████████| 12/12 [00:00<00:00, 400.80it/s]\n",
            "accuracy: 0.8442, loss: 0.6915 ||: 100%|██████████| 281/281 [00:01<00:00, 274.03it/s]\n",
            "accuracy: 0.7878, loss: 1.1618 ||: 100%|██████████| 12/12 [00:00<00:00, 447.91it/s]\n",
            "accuracy: 0.8442, loss: 0.6821 ||: 100%|██████████| 281/281 [00:01<00:00, 256.73it/s]\n",
            "accuracy: 0.7878, loss: 1.1578 ||: 100%|██████████| 12/12 [00:00<00:00, 455.01it/s]\n",
            "accuracy: 0.8442, loss: 0.6713 ||: 100%|██████████| 281/281 [00:01<00:00, 256.80it/s]\n",
            "accuracy: 0.7878, loss: 1.1334 ||: 100%|██████████| 12/12 [00:00<00:00, 505.52it/s]\n",
            "accuracy: 0.8442, loss: 0.6577 ||: 100%|██████████| 281/281 [00:01<00:00, 270.04it/s]\n",
            "accuracy: 0.7878, loss: 1.1094 ||: 100%|██████████| 12/12 [00:00<00:00, 470.83it/s]\n",
            "accuracy: 0.8442, loss: 0.6399 ||: 100%|██████████| 281/281 [00:01<00:00, 258.60it/s]\n",
            "accuracy: 0.7878, loss: 1.0749 ||: 100%|██████████| 12/12 [00:00<00:00, 458.66it/s]\n",
            "accuracy: 0.8442, loss: 0.6164 ||: 100%|██████████| 281/281 [00:01<00:00, 241.09it/s]\n",
            "accuracy: 0.7878, loss: 1.0372 ||: 100%|██████████| 12/12 [00:00<00:00, 446.32it/s]\n",
            "accuracy: 0.8442, loss: 0.5819 ||: 100%|██████████| 281/281 [00:01<00:00, 259.91it/s]\n",
            "accuracy: 0.7878, loss: 0.9761 ||: 100%|██████████| 12/12 [00:00<00:00, 355.94it/s]\n",
            "accuracy: 0.8464, loss: 0.5410 ||: 100%|██████████| 281/281 [00:01<00:00, 264.36it/s]\n",
            "accuracy: 0.7878, loss: 0.9165 ||: 100%|██████████| 12/12 [00:00<00:00, 531.97it/s]\n",
            "accuracy: 0.8559, loss: 0.5037 ||: 100%|██████████| 281/281 [00:01<00:00, 271.64it/s]\n",
            "accuracy: 0.7878, loss: 0.8608 ||: 100%|██████████| 12/12 [00:00<00:00, 476.40it/s]\n",
            "accuracy: 0.8587, loss: 0.4740 ||: 100%|██████████| 281/281 [00:01<00:00, 237.51it/s]\n",
            "accuracy: 0.7878, loss: 0.8233 ||: 100%|██████████| 12/12 [00:00<00:00, 380.72it/s]\n",
            "accuracy: 0.8605, loss: 0.4466 ||: 100%|██████████| 281/281 [00:01<00:00, 236.75it/s]\n",
            "accuracy: 0.7918, loss: 0.7981 ||: 100%|██████████| 12/12 [00:00<00:00, 496.63it/s]\n",
            "accuracy: 0.8609, loss: 0.4307 ||: 100%|██████████| 281/281 [00:01<00:00, 256.94it/s]\n",
            "accuracy: 0.7939, loss: 0.7710 ||: 100%|██████████| 12/12 [00:00<00:00, 494.67it/s]\n",
            "accuracy: 0.8622, loss: 0.4158 ||: 100%|██████████| 281/281 [00:01<00:00, 268.43it/s]\n",
            "accuracy: 0.7939, loss: 0.7595 ||: 100%|██████████| 12/12 [00:00<00:00, 388.73it/s]\n",
            "accuracy: 0.8624, loss: 0.4083 ||: 100%|██████████| 281/281 [00:01<00:00, 275.93it/s]\n",
            "accuracy: 0.7939, loss: 0.7650 ||: 100%|██████████| 12/12 [00:00<00:00, 450.72it/s]\n",
            "accuracy: 0.8632, loss: 0.3971 ||: 100%|██████████| 281/281 [00:01<00:00, 256.44it/s]\n",
            "accuracy: 0.7939, loss: 0.7408 ||: 100%|██████████| 12/12 [00:00<00:00, 355.90it/s]\n",
            "accuracy: 0.8636, loss: 0.3909 ||: 100%|██████████| 281/281 [00:01<00:00, 243.73it/s]\n",
            "accuracy: 0.7939, loss: 0.7281 ||: 100%|██████████| 12/12 [00:00<00:00, 463.23it/s]\n",
            "accuracy: 0.8645, loss: 0.3871 ||: 100%|██████████| 281/281 [00:01<00:00, 252.21it/s]\n",
            "accuracy: 0.7939, loss: 0.7170 ||: 100%|██████████| 12/12 [00:00<00:00, 484.37it/s]\n",
            "accuracy: 0.8645, loss: 0.3834 ||: 100%|██████████| 281/281 [00:01<00:00, 256.26it/s]\n",
            "accuracy: 0.7939, loss: 0.7282 ||: 100%|██████████| 12/12 [00:00<00:00, 448.53it/s]\n",
            "accuracy: 0.8648, loss: 0.3773 ||: 100%|██████████| 281/281 [00:01<00:00, 238.03it/s]\n",
            "accuracy: 0.7939, loss: 0.7206 ||: 100%|██████████| 12/12 [00:00<00:00, 456.12it/s]\n",
            "accuracy: 0.8646, loss: 0.3744 ||: 100%|██████████| 281/281 [00:01<00:00, 258.02it/s]\n",
            "accuracy: 0.7939, loss: 0.7206 ||: 100%|██████████| 12/12 [00:00<00:00, 395.97it/s]\n",
            "accuracy: 0.8660, loss: 0.3689 ||: 100%|██████████| 281/281 [00:01<00:00, 262.43it/s]\n",
            "accuracy: 0.7959, loss: 0.7081 ||: 100%|██████████| 12/12 [00:00<00:00, 491.71it/s]\n",
            "accuracy: 0.8673, loss: 0.3650 ||: 100%|██████████| 281/281 [00:01<00:00, 248.69it/s]\n",
            "accuracy: 0.7980, loss: 0.7382 ||: 100%|██████████| 12/12 [00:00<00:00, 474.37it/s]\n",
            "accuracy: 0.8694, loss: 0.3624 ||: 100%|██████████| 281/281 [00:01<00:00, 248.12it/s]\n",
            "accuracy: 0.8020, loss: 0.6845 ||: 100%|██████████| 12/12 [00:00<00:00, 433.91it/s]\n",
            "accuracy: 0.8708, loss: 0.3573 ||: 100%|██████████| 281/281 [00:01<00:00, 269.03it/s]\n",
            "accuracy: 0.8041, loss: 0.6786 ||: 100%|██████████| 12/12 [00:00<00:00, 466.22it/s]\n",
            "accuracy: 0.8708, loss: 0.3541 ||: 100%|██████████| 281/281 [00:01<00:00, 251.25it/s]\n",
            "accuracy: 0.8102, loss: 0.6758 ||: 100%|██████████| 12/12 [00:00<00:00, 486.57it/s]\n",
            "accuracy: 0.8737, loss: 0.3522 ||: 100%|██████████| 281/281 [00:01<00:00, 232.44it/s]\n",
            "accuracy: 0.8082, loss: 0.6630 ||: 100%|██████████| 12/12 [00:00<00:00, 486.58it/s]\n",
            "accuracy: 0.8735, loss: 0.3492 ||: 100%|██████████| 281/281 [00:01<00:00, 254.61it/s]\n",
            "accuracy: 0.8061, loss: 0.6722 ||: 100%|██████████| 12/12 [00:00<00:00, 461.92it/s]\n",
            "accuracy: 0.8747, loss: 0.3438 ||: 100%|██████████| 281/281 [00:01<00:00, 274.67it/s]\n",
            "accuracy: 0.8082, loss: 0.6641 ||: 100%|██████████| 12/12 [00:00<00:00, 384.99it/s]\n",
            "accuracy: 0.8767, loss: 0.3414 ||: 100%|██████████| 281/281 [00:01<00:00, 267.94it/s]\n",
            "accuracy: 0.8082, loss: 0.6662 ||: 100%|██████████| 12/12 [00:00<00:00, 426.81it/s]\n",
            "accuracy: 0.8756, loss: 0.3406 ||: 100%|██████████| 281/281 [00:01<00:00, 260.82it/s]\n",
            "accuracy: 0.8122, loss: 0.6622 ||: 100%|██████████| 12/12 [00:00<00:00, 438.34it/s]\n",
            "accuracy: 0.8764, loss: 0.3370 ||: 100%|██████████| 281/281 [00:01<00:00, 247.42it/s]\n",
            "accuracy: 0.8224, loss: 0.6508 ||: 100%|██████████| 12/12 [00:00<00:00, 470.69it/s]\n",
            "accuracy: 0.8788, loss: 0.3337 ||: 100%|██████████| 281/281 [00:01<00:00, 258.34it/s]\n",
            "accuracy: 0.8184, loss: 0.6557 ||: 100%|██████████| 12/12 [00:00<00:00, 519.62it/s]\n",
            "accuracy: 0.8786, loss: 0.3312 ||: 100%|██████████| 281/281 [00:01<00:00, 274.69it/s]\n",
            "accuracy: 0.8204, loss: 0.6648 ||: 100%|██████████| 12/12 [00:00<00:00, 447.97it/s]\n",
            "accuracy: 0.8806, loss: 0.3296 ||: 100%|██████████| 281/281 [00:01<00:00, 231.05it/s]\n",
            "accuracy: 0.8286, loss: 0.6309 ||: 100%|██████████| 12/12 [00:00<00:00, 342.63it/s]\n",
            "accuracy: 0.8818, loss: 0.3272 ||: 100%|██████████| 281/281 [00:01<00:00, 267.07it/s]\n",
            "accuracy: 0.8184, loss: 0.6449 ||: 100%|██████████| 12/12 [00:00<00:00, 449.07it/s]\n",
            "accuracy: 0.8804, loss: 0.3252 ||: 100%|██████████| 281/281 [00:01<00:00, 256.68it/s]\n",
            "accuracy: 0.8286, loss: 0.6185 ||: 100%|██████████| 12/12 [00:00<00:00, 417.30it/s]\n",
            "accuracy: 0.8848, loss: 0.3205 ||: 100%|██████████| 281/281 [00:01<00:00, 253.23it/s]\n",
            "accuracy: 0.8204, loss: 0.6130 ||: 100%|██████████| 12/12 [00:00<00:00, 512.51it/s]\n",
            "accuracy: 0.8845, loss: 0.3185 ||: 100%|██████████| 281/281 [00:01<00:00, 266.51it/s]\n",
            "accuracy: 0.8306, loss: 0.6322 ||: 100%|██████████| 12/12 [00:00<00:00, 507.40it/s]\n",
            "accuracy: 0.8862, loss: 0.3157 ||: 100%|██████████| 281/281 [00:01<00:00, 267.12it/s]\n",
            "accuracy: 0.8327, loss: 0.6308 ||: 100%|██████████| 12/12 [00:00<00:00, 487.07it/s]\n",
            "accuracy: 0.8860, loss: 0.3159 ||: 100%|██████████| 281/281 [00:01<00:00, 255.35it/s]\n",
            "accuracy: 0.8408, loss: 0.6130 ||: 100%|██████████| 12/12 [00:00<00:00, 408.67it/s]\n",
            "accuracy: 0.8889, loss: 0.3134 ||: 100%|██████████| 281/281 [00:01<00:00, 260.58it/s]\n",
            "accuracy: 0.8408, loss: 0.5991 ||: 100%|██████████| 12/12 [00:00<00:00, 530.85it/s]\n",
            "accuracy: 0.8897, loss: 0.3096 ||: 100%|██████████| 281/281 [00:01<00:00, 247.72it/s]\n",
            "accuracy: 0.8286, loss: 0.6031 ||: 100%|██████████| 12/12 [00:00<00:00, 431.73it/s]\n",
            "accuracy: 0.8903, loss: 0.3072 ||: 100%|██████████| 281/281 [00:01<00:00, 264.92it/s]\n",
            "accuracy: 0.8367, loss: 0.5916 ||: 100%|██████████| 12/12 [00:00<00:00, 444.92it/s]\n",
            "accuracy: 0.8911, loss: 0.3049 ||: 100%|██████████| 281/281 [00:01<00:00, 243.40it/s]\n",
            "accuracy: 0.8347, loss: 0.5898 ||: 100%|██████████| 12/12 [00:00<00:00, 377.22it/s]\n",
            "accuracy: 0.8897, loss: 0.3043 ||: 100%|██████████| 281/281 [00:01<00:00, 256.19it/s]\n",
            "accuracy: 0.8449, loss: 0.5864 ||: 100%|██████████| 12/12 [00:00<00:00, 428.71it/s]\n",
            "accuracy: 0.8933, loss: 0.3009 ||: 100%|██████████| 281/281 [00:01<00:00, 259.05it/s]\n",
            "accuracy: 0.8469, loss: 0.5880 ||: 100%|██████████| 12/12 [00:00<00:00, 422.24it/s]\n",
            "accuracy: 0.8938, loss: 0.2995 ||: 100%|██████████| 281/281 [00:01<00:00, 246.96it/s]\n",
            "accuracy: 0.8449, loss: 0.5736 ||: 100%|██████████| 12/12 [00:00<00:00, 457.91it/s]\n",
            "accuracy: 0.8940, loss: 0.2964 ||: 100%|██████████| 281/281 [00:01<00:00, 269.26it/s]\n",
            "accuracy: 0.8469, loss: 0.5758 ||: 100%|██████████| 12/12 [00:00<00:00, 391.34it/s]\n",
            "accuracy: 0.8961, loss: 0.2945 ||: 100%|██████████| 281/281 [00:01<00:00, 261.04it/s]\n",
            "accuracy: 0.8490, loss: 0.5587 ||: 100%|██████████| 12/12 [00:00<00:00, 479.35it/s]\n",
            "accuracy: 0.8972, loss: 0.2953 ||: 100%|██████████| 281/281 [00:01<00:00, 262.89it/s]\n",
            "accuracy: 0.8531, loss: 0.5699 ||: 100%|██████████| 12/12 [00:00<00:00, 462.23it/s]\n",
            "accuracy: 0.8982, loss: 0.2894 ||: 100%|██████████| 281/281 [00:01<00:00, 256.07it/s]\n",
            "accuracy: 0.8490, loss: 0.5619 ||: 100%|██████████| 12/12 [00:00<00:00, 406.69it/s]\n",
            "accuracy: 0.8991, loss: 0.2856 ||: 100%|██████████| 281/281 [00:01<00:00, 258.86it/s]\n",
            "accuracy: 0.8510, loss: 0.5603 ||: 100%|██████████| 12/12 [00:00<00:00, 514.89it/s]\n",
            "accuracy: 0.8993, loss: 0.2859 ||: 100%|██████████| 281/281 [00:01<00:00, 252.79it/s]\n",
            "accuracy: 0.8571, loss: 0.5442 ||: 100%|██████████| 12/12 [00:00<00:00, 446.21it/s]\n",
            "accuracy: 0.9029, loss: 0.2815 ||: 100%|██████████| 281/281 [00:01<00:00, 253.59it/s]\n",
            "accuracy: 0.8531, loss: 0.5458 ||: 100%|██████████| 12/12 [00:00<00:00, 409.15it/s]\n",
            "accuracy: 0.9022, loss: 0.2811 ||: 100%|██████████| 281/281 [00:01<00:00, 269.00it/s]\n",
            "accuracy: 0.8551, loss: 0.5378 ||: 100%|██████████| 12/12 [00:00<00:00, 407.02it/s]\n",
            "accuracy: 0.9031, loss: 0.2764 ||: 100%|██████████| 281/281 [00:01<00:00, 266.24it/s]\n",
            "accuracy: 0.8571, loss: 0.5369 ||: 100%|██████████| 12/12 [00:00<00:00, 481.00it/s]\n",
            "accuracy: 0.9028, loss: 0.2745 ||: 100%|██████████| 281/281 [00:01<00:00, 255.36it/s]\n",
            "accuracy: 0.8551, loss: 0.5357 ||: 100%|██████████| 12/12 [00:00<00:00, 441.34it/s]\n",
            "accuracy: 0.9057, loss: 0.2709 ||: 100%|██████████| 281/281 [00:01<00:00, 251.76it/s]\n",
            "accuracy: 0.8531, loss: 0.5271 ||: 100%|██████████| 12/12 [00:00<00:00, 495.09it/s]\n",
            "accuracy: 0.9046, loss: 0.2669 ||: 100%|██████████| 281/281 [00:01<00:00, 268.84it/s]\n",
            "accuracy: 0.8551, loss: 0.5168 ||: 100%|██████████| 12/12 [00:00<00:00, 442.37it/s]\n",
            "accuracy: 0.9055, loss: 0.2672 ||: 100%|██████████| 281/281 [00:01<00:00, 251.05it/s]\n",
            "accuracy: 0.8633, loss: 0.5320 ||: 100%|██████████| 12/12 [00:00<00:00, 461.09it/s]\n",
            "accuracy: 0.9060, loss: 0.2625 ||: 100%|██████████| 281/281 [00:01<00:00, 252.77it/s]\n",
            "accuracy: 0.8633, loss: 0.5209 ||: 100%|██████████| 12/12 [00:00<00:00, 460.70it/s]\n",
            "accuracy: 0.9070, loss: 0.2586 ||: 100%|██████████| 281/281 [00:01<00:00, 253.29it/s]\n",
            "accuracy: 0.8592, loss: 0.4999 ||: 100%|██████████| 12/12 [00:00<00:00, 396.39it/s]\n",
            "accuracy: 0.9082, loss: 0.2572 ||: 100%|██████████| 281/281 [00:01<00:00, 246.97it/s]\n",
            "accuracy: 0.8612, loss: 0.4944 ||: 100%|██████████| 12/12 [00:00<00:00, 413.53it/s]\n",
            "accuracy: 0.9086, loss: 0.2551 ||: 100%|██████████| 281/281 [00:01<00:00, 254.69it/s]\n",
            "accuracy: 0.8633, loss: 0.5002 ||: 100%|██████████| 12/12 [00:00<00:00, 392.12it/s]\n",
            "accuracy: 0.9098, loss: 0.2542 ||: 100%|██████████| 281/281 [00:01<00:00, 247.46it/s]\n",
            "accuracy: 0.8612, loss: 0.4851 ||: 100%|██████████| 12/12 [00:00<00:00, 484.97it/s]\n",
            "accuracy: 0.9134, loss: 0.2480 ||: 100%|██████████| 281/281 [00:01<00:00, 248.38it/s]\n",
            "accuracy: 0.8653, loss: 0.4818 ||: 100%|██████████| 12/12 [00:00<00:00, 391.10it/s]\n",
            "accuracy: 0.9115, loss: 0.2463 ||: 100%|██████████| 281/281 [00:01<00:00, 248.35it/s]\n",
            "accuracy: 0.8633, loss: 0.4814 ||: 100%|██████████| 12/12 [00:00<00:00, 390.94it/s]\n",
            "accuracy: 0.9145, loss: 0.2438 ||: 100%|██████████| 281/281 [00:01<00:00, 242.28it/s]\n",
            "accuracy: 0.8653, loss: 0.4803 ||: 100%|██████████| 12/12 [00:00<00:00, 413.96it/s]\n",
            "accuracy: 0.9155, loss: 0.2417 ||: 100%|██████████| 281/281 [00:01<00:00, 252.33it/s]\n",
            "accuracy: 0.8694, loss: 0.4787 ||: 100%|██████████| 12/12 [00:00<00:00, 428.84it/s]\n",
            "accuracy: 0.9143, loss: 0.2399 ||: 100%|██████████| 281/281 [00:01<00:00, 248.06it/s]\n",
            "accuracy: 0.8673, loss: 0.4774 ||: 100%|██████████| 12/12 [00:00<00:00, 385.22it/s]\n",
            "accuracy: 0.9153, loss: 0.2383 ||: 100%|██████████| 281/281 [00:01<00:00, 251.26it/s]\n",
            "accuracy: 0.8653, loss: 0.4567 ||: 100%|██████████| 12/12 [00:00<00:00, 480.35it/s]\n",
            "accuracy: 0.9156, loss: 0.2357 ||: 100%|██████████| 281/281 [00:01<00:00, 244.65it/s]\n",
            "accuracy: 0.8673, loss: 0.4531 ||: 100%|██████████| 12/12 [00:00<00:00, 438.01it/s]\n",
            "accuracy: 0.9171, loss: 0.2315 ||: 100%|██████████| 281/281 [00:01<00:00, 262.93it/s]\n",
            "accuracy: 0.8673, loss: 0.4600 ||: 100%|██████████| 12/12 [00:00<00:00, 448.14it/s]\n",
            "accuracy: 0.9161, loss: 0.2325 ||: 100%|██████████| 281/281 [00:01<00:00, 250.63it/s]\n",
            "accuracy: 0.8673, loss: 0.4577 ||: 100%|██████████| 12/12 [00:00<00:00, 410.83it/s]\n",
            "accuracy: 0.9170, loss: 0.2289 ||: 100%|██████████| 281/281 [00:01<00:00, 233.07it/s]\n",
            "accuracy: 0.8694, loss: 0.4453 ||: 100%|██████████| 12/12 [00:00<00:00, 408.08it/s]\n",
            "accuracy: 0.9173, loss: 0.2270 ||: 100%|██████████| 281/281 [00:01<00:00, 237.35it/s]\n",
            "accuracy: 0.8735, loss: 0.4396 ||: 100%|██████████| 12/12 [00:00<00:00, 368.66it/s]\n",
            "accuracy: 0.9188, loss: 0.2266 ||: 100%|██████████| 281/281 [00:01<00:00, 254.73it/s]\n",
            "accuracy: 0.8714, loss: 0.4401 ||: 100%|██████████| 12/12 [00:00<00:00, 480.75it/s]\n",
            "accuracy: 0.9161, loss: 0.2227 ||: 100%|██████████| 281/281 [00:01<00:00, 262.58it/s]\n",
            "accuracy: 0.8694, loss: 0.4460 ||: 100%|██████████| 12/12 [00:00<00:00, 459.60it/s]\n",
            "accuracy: 0.9183, loss: 0.2212 ||: 100%|██████████| 281/281 [00:01<00:00, 264.37it/s]\n",
            "accuracy: 0.8735, loss: 0.4317 ||: 100%|██████████| 12/12 [00:00<00:00, 478.92it/s]\n",
            "accuracy: 0.9198, loss: 0.2188 ||: 100%|██████████| 281/281 [00:01<00:00, 264.48it/s]\n",
            "accuracy: 0.8755, loss: 0.4252 ||: 100%|██████████| 12/12 [00:00<00:00, 408.28it/s]\n",
            "accuracy: 0.9199, loss: 0.2176 ||: 100%|██████████| 281/281 [00:01<00:00, 264.24it/s]\n",
            "accuracy: 0.8714, loss: 0.4208 ||: 100%|██████████| 12/12 [00:00<00:00, 465.44it/s]\n",
            "accuracy: 0.9191, loss: 0.2157 ||: 100%|██████████| 281/281 [00:01<00:00, 252.74it/s]\n",
            "accuracy: 0.8776, loss: 0.4204 ||: 100%|██████████| 12/12 [00:00<00:00, 408.47it/s]\n",
            "accuracy: 0.9216, loss: 0.2128 ||: 100%|██████████| 281/281 [00:01<00:00, 250.74it/s]\n",
            "accuracy: 0.8714, loss: 0.4216 ||: 100%|██████████| 12/12 [00:00<00:00, 391.80it/s]\n",
            "accuracy: 0.9191, loss: 0.2116 ||: 100%|██████████| 281/281 [00:01<00:00, 259.30it/s]\n",
            "accuracy: 0.8735, loss: 0.4171 ||: 100%|██████████| 12/12 [00:00<00:00, 404.10it/s]\n",
            "accuracy: 0.9194, loss: 0.2113 ||: 100%|██████████| 281/281 [00:01<00:00, 243.07it/s]\n",
            "accuracy: 0.8755, loss: 0.4135 ||: 100%|██████████| 12/12 [00:00<00:00, 456.89it/s]\n",
            "accuracy: 0.9205, loss: 0.2091 ||: 100%|██████████| 281/281 [00:01<00:00, 251.13it/s]\n",
            "accuracy: 0.8776, loss: 0.4047 ||: 100%|██████████| 12/12 [00:00<00:00, 480.25it/s]\n",
            "accuracy: 0.9221, loss: 0.2057 ||: 100%|██████████| 281/281 [00:01<00:00, 250.95it/s]\n",
            "accuracy: 0.8776, loss: 0.3978 ||: 100%|██████████| 12/12 [00:00<00:00, 486.48it/s]\n",
            "accuracy: 0.9226, loss: 0.2063 ||: 100%|██████████| 281/281 [00:01<00:00, 256.46it/s]\n",
            "accuracy: 0.8735, loss: 0.3989 ||: 100%|██████████| 12/12 [00:00<00:00, 345.31it/s]\n",
            "accuracy: 0.9229, loss: 0.2032 ||: 100%|██████████| 281/281 [00:01<00:00, 263.57it/s]\n",
            "accuracy: 0.8755, loss: 0.3899 ||: 100%|██████████| 12/12 [00:00<00:00, 457.07it/s]\n",
            "accuracy: 0.9228, loss: 0.1997 ||: 100%|██████████| 281/281 [00:01<00:00, 261.97it/s]\n",
            "accuracy: 0.8755, loss: 0.3915 ||: 100%|██████████| 12/12 [00:00<00:00, 471.11it/s]\n",
            "accuracy: 0.9235, loss: 0.1981 ||: 100%|██████████| 281/281 [00:01<00:00, 266.63it/s]\n",
            "accuracy: 0.8755, loss: 0.4020 ||: 100%|██████████| 12/12 [00:00<00:00, 386.59it/s]\n",
            "accuracy: 0.9237, loss: 0.1974 ||: 100%|██████████| 281/281 [00:01<00:00, 246.02it/s]\n",
            "accuracy: 0.8755, loss: 0.3885 ||: 100%|██████████| 12/12 [00:00<00:00, 463.02it/s]\n",
            "accuracy: 0.9248, loss: 0.1979 ||: 100%|██████████| 281/281 [00:01<00:00, 249.52it/s]\n",
            "accuracy: 0.8796, loss: 0.3851 ||: 100%|██████████| 12/12 [00:00<00:00, 420.55it/s]\n",
            "accuracy: 0.9238, loss: 0.1949 ||: 100%|██████████| 281/281 [00:01<00:00, 241.27it/s]\n",
            "accuracy: 0.8776, loss: 0.3829 ||: 100%|██████████| 12/12 [00:00<00:00, 411.25it/s]\n",
            "accuracy: 0.9264, loss: 0.1921 ||: 100%|██████████| 281/281 [00:01<00:00, 243.42it/s]\n",
            "accuracy: 0.8776, loss: 0.3694 ||: 100%|██████████| 12/12 [00:00<00:00, 419.44it/s]\n"
          ],
          "name": "stderr"
        },
        {
          "output_type": "execute_result",
          "data": {
            "text/plain": [
              "{'best_epoch': 99,\n",
              " 'best_validation_accuracy': 0.8775510204081632,\n",
              " 'best_validation_loss': 0.3693773134339911,\n",
              " 'epoch': 99,\n",
              " 'peak_cpu_memory_MB': 3228.032,\n",
              " 'peak_gpu_0_memory_MB': 1060,\n",
              " 'training_accuracy': 0.9263849168520284,\n",
              " 'training_cpu_memory_MB': 3228.032,\n",
              " 'training_duration': '0:02:00.591272',\n",
              " 'training_epochs': 99,\n",
              " 'training_gpu_0_memory_MB': 1060,\n",
              " 'training_loss': 0.19210356830377331,\n",
              " 'training_start_epoch': 0,\n",
              " 'validation_accuracy': 0.8775510204081632,\n",
              " 'validation_loss': 0.3693773134339911}"
            ]
          },
          "metadata": {
            "tags": []
          },
          "execution_count": 5
        }
      ]
    },
    {
      "cell_type": "markdown",
      "metadata": {
        "id": "mwN6ctqVV0tf"
      },
      "source": [
        "## Evaluation"
      ]
    },
    {
      "cell_type": "markdown",
      "metadata": {
        "id": "qkDs_UdIeuFz"
      },
      "source": [
        "The simple code below loops over the validation set, applying the model to each exmaple and collecting out the input token, gold-standard output, and model output. You can see from these methods how to access ground truth and model outputs for evaluation."
      ]
    },
    {
      "cell_type": "code",
      "metadata": {
        "id": "S0bE4fmLik08",
        "colab": {
          "base_uri": "https://localhost:8080/"
        },
        "outputId": "8248688a-cd28-440d-ad58-5aa08ce9366c"
      },
      "source": [
        "def tag_sentence(s):\n",
        "  tag_ids = np.argmax(model.forward_on_instance(s)['tag_logits'], axis=-1)\n",
        "  fields = zip(s['tokens'], s['tags'], [model.vocab.get_token_from_index(i, 'labels') for i in tag_ids])\n",
        "  return list(fields)\n",
        "\n",
        "baseline_output = [tag_sentence(i) for i in validation_dataset]\n",
        "## Show the first example\n",
        "baseline_output[0]"
      ],
      "execution_count": 38,
      "outputs": [
        {
          "output_type": "execute_result",
          "data": {
            "text/plain": [
              "[(With, 'O', 'O'),\n",
              " (a, 'O', 'O'),\n",
              " (wave, 'O', 'O'),\n",
              " (of, 'O', 'O'),\n",
              " (his, 'O', 'O'),\n",
              " (hand, 'O', 'O'),\n",
              " (,, 'O', 'O'),\n",
              " (Peng, 'B-PERSON', 'B-PERSON'),\n",
              " (Dehuai, 'I-PERSON', 'I-ORG'),\n",
              " (said, 'O', 'O'),\n",
              " (that, 'O', 'O'),\n",
              " (despite, 'O', 'O'),\n",
              " (being, 'O', 'O'),\n",
              " (over, 'O', 'O'),\n",
              " (100, 'B-CARDINAL', 'B-CARDINAL'),\n",
              " (regiments, 'O', 'O'),\n",
              " (,, 'O', 'O'),\n",
              " (let, 'O', 'O'),\n",
              " ('s, 'O', 'O'),\n",
              " (call, 'O', 'O'),\n",
              " (this, 'O', 'O'),\n",
              " (campaign, 'O', 'O'),\n",
              " (the, 'B-EVENT', 'B-ORG'),\n",
              " (Hundred, 'I-EVENT', 'I-EVENT'),\n",
              " (Regiments, 'I-EVENT', 'I-EVENT'),\n",
              " (Offensive, 'I-EVENT', 'I-EVENT'),\n",
              " (., 'O', 'O')]"
            ]
          },
          "metadata": {
            "tags": []
          },
          "execution_count": 38
        }
      ]
    },
    {
      "cell_type": "code",
      "metadata": {
        "colab": {
          "base_uri": "https://localhost:8080/"
        },
        "id": "Qm6cxFNFHYPQ",
        "outputId": "89295896-63de-4e25-f08f-b44347874410"
      },
      "source": [
        "pip install seqeval"
      ],
      "execution_count": 39,
      "outputs": [
        {
          "output_type": "stream",
          "text": [
            "Requirement already satisfied: seqeval in /usr/local/lib/python3.7/dist-packages (1.2.2)\n",
            "Requirement already satisfied: numpy>=1.14.0 in /usr/local/lib/python3.7/dist-packages (from seqeval) (1.19.5)\n",
            "Requirement already satisfied: scikit-learn>=0.21.3 in /usr/local/lib/python3.7/dist-packages (from seqeval) (0.22.2.post1)\n",
            "Requirement already satisfied: joblib>=0.11 in /usr/local/lib/python3.7/dist-packages (from scikit-learn>=0.21.3->seqeval) (1.0.1)\n",
            "Requirement already satisfied: scipy>=0.17.0 in /usr/local/lib/python3.7/dist-packages (from scikit-learn>=0.21.3->seqeval) (1.4.1)\n"
          ],
          "name": "stdout"
        }
      ]
    },
    {
      "cell_type": "markdown",
      "metadata": {
        "id": "BpYMx7RVfCyT"
      },
      "source": [
        "Now, you can implement two evaluation functions: `violations` and `span_stats`."
      ]
    },
    {
      "cell_type": "code",
      "metadata": {
        "id": "P042A2Ofg3wa",
        "colab": {
          "base_uri": "https://localhost:8080/"
        },
        "outputId": "0b169d6f-090c-4b11-bec4-22ad9ee67e82"
      },
      "source": [
        "# TODO: count the number of NER label violations,\n",
        "# such as O followed by I-TYPE or B-TYPE followed by\n",
        "# I-OTHER_TYPE\n",
        "# Take tagger output as input\n",
        "def violations(tagged):\n",
        "  count = 0\n",
        "  for base in tagged:\n",
        "    word, tag, pred = base[0]\n",
        "    if pred[0] == 'I':\n",
        "      count += 1\n",
        "      #print(pred)\n",
        "    for i in range(1, len(base)):\n",
        "      word1, tag1, pred1 = base[i-1]\n",
        "      word2, tag2, pred2 = base[i]\n",
        "      if pred1 == 'O':\n",
        "        if pred2[0] == 'I':\n",
        "          count += 1\n",
        "          #print(pred1, pred2)\n",
        "      else:\n",
        "        if (pred2[0] == 'I') and (pred1[1:] != pred2[1:]):\n",
        "          count += 1\n",
        "          #print(pred1, pred2)\n",
        "  return count\n",
        "\n",
        "# TODO: return the span-level precision, recall, and F1\n",
        "# Only count valid spans that start with a B tag,\n",
        "# followed by zero or more I tags of the same type.\n",
        "# This is harsher than the token-level metric that the\n",
        "# LSTM was trained to optimize, but it is the standard way\n",
        "# of evaluating NER systems.\n",
        "# Take tagger output as input\n",
        "\n",
        "from seqeval.metrics import f1_score\n",
        "from seqeval.metrics import precision_score\n",
        "from seqeval.metrics import accuracy_score\n",
        "from seqeval.metrics import recall_score\n",
        "from seqeval.metrics import classification_report\n",
        "\n",
        "def span_stats(tagged):\n",
        "  y_trues = []\n",
        "  y_preds = []\n",
        "  for base in tagged:\n",
        "    y_true = []\n",
        "    y_pred = []\n",
        "    for b in base:\n",
        "      word, tag, pred = b\n",
        "      y_true.append(tag)\n",
        "      y_pred.append(pred)\n",
        "    y_trues.append(y_true)\n",
        "    y_preds.append(y_pred)\n",
        "  precision = precision_score(y_trues, y_preds)\n",
        "  recall = recall_score(y_trues, y_preds)\n",
        "  f1 = f1_score(y_trues, y_preds)\n",
        "  return {'precision': precision,\n",
        "          'recall': recall,\n",
        "          'f1': f1}\n",
        "print(span_stats(baseline_output))\n",
        "\n",
        "## You can check how many violations are made by the model output in predictor.\n",
        "violations(baseline_output)"
      ],
      "execution_count": 40,
      "outputs": [
        {
          "output_type": "stream",
          "text": [
            "{'precision': 0.1746031746031746, 'recall': 0.2558139534883721, 'f1': 0.20754716981132076}\n"
          ],
          "name": "stdout"
        },
        {
          "output_type": "execute_result",
          "data": {
            "text/plain": [
              "32"
            ]
          },
          "metadata": {
            "tags": []
          },
          "execution_count": 40
        }
      ]
    },
    {
      "cell_type": "markdown",
      "metadata": {
        "id": "fX7-quD2hnzB"
      },
      "source": [
        "## Decoding"
      ]
    },
    {
      "cell_type": "markdown",
      "metadata": {
        "id": "WCgW9d9ohsGv"
      },
      "source": [
        "Now you can finally implement the simple Viterbi decoder. The `model` object, when applied to an input sentence, first calculates the scores for each possible output tag for each token. See the expression `model.forward_on_instance(s)['tag_logits']` in the code above.\n",
        "\n",
        "Then, you will construct a transition matrix. You can use the code below to get a list of the tags the model knows about. For a set of K tags, construct a K-by-K matrix with a log(1)=0 when a transition between a given tag pair is valid and a log(0)=-infinity otherwise.\n",
        "\n",
        "Finally, implement a Viterbi decoder that takes the model object and a dataset object and outputs tagged data, just like the `tag_sentence` function above. It should use the Viterbi algorithm with the (max, plus) semiring. You'll be working with sums of log probabilities instead of products of probabilties.\n",
        "\n",
        "Run your `violations` function on the output of this decoder to make sure that there are no invalid tag transitions. Also, compare the span-level metrics on `baseline_output` and your new output using your `span_stats` function."
      ]
    },
    {
      "cell_type": "code",
      "metadata": {
        "id": "nlP8vZhiS68K",
        "colab": {
          "base_uri": "https://localhost:8080/"
        },
        "outputId": "a304221c-fe08-4917-c0cd-5d637ad5e153"
      },
      "source": [
        "# This code shows how to map from output vector components to labels\n",
        "print(vocab.get_index_to_token_vocabulary('labels'))\n",
        "# create the k by k transition matrix\n",
        "d = vocab.get_index_to_token_vocabulary('labels')\n",
        "k = len(d)\n",
        "#print(k)\n",
        "trans_matrix = [[0]*k for _ in range(k)]\n",
        "for i in range(k):\n",
        "  for j in range(k):\n",
        "    pre = d[i]\n",
        "    nxt = d[j]\n",
        "    if pre == 'O':\n",
        "      if nxt[0] =='I':\n",
        "        trans_matrix[i][j] = float(\"-inf\")\n",
        "    else:\n",
        "      if nxt[0] == 'I' and pre[1:] != nxt[1:]:\n",
        "        trans_matrix[i][j] = float(\"-inf\")\n",
        "#print(trans_matrix)\n"
      ],
      "execution_count": 45,
      "outputs": [
        {
          "output_type": "stream",
          "text": [
            "{0: 'O', 1: 'B-GPE', 2: 'I-ORG', 3: 'I-DATE', 4: 'B-CARDINAL', 5: 'I-EVENT', 6: 'B-PERSON', 7: 'B-NORP', 8: 'B-DATE', 9: 'B-ORG', 10: 'B-LOC', 11: 'I-LOC', 12: 'I-FAC', 13: 'I-PERSON', 14: 'I-GPE', 15: 'I-CARDINAL', 16: 'B-EVENT', 17: 'I-TIME', 18: 'I-WORK_OF_ART', 19: 'B-ORDINAL', 20: 'B-FAC', 21: 'B-TIME', 22: 'I-LAW', 23: 'I-QUANTITY', 24: 'I-NORP', 25: 'I-MONEY', 26: 'B-MONEY', 27: 'B-WORK_OF_ART', 28: 'B-QUANTITY', 29: 'B-LAW', 30: 'B-PRODUCT', 31: 'I-PRODUCT', 32: 'B-PERCENT', 33: 'I-PERCENT'}\n"
          ],
          "name": "stdout"
        }
      ]
    },
    {
      "cell_type": "code",
      "metadata": {
        "id": "S-bwmGvri6SH"
      },
      "source": [
        "#implement the viterbi and find the best path\n",
        "nums = len(validation_dataset)\n",
        "path = []\n",
        "list_tag = [d[i] for i in d]\n",
        "for i in range(nums):\n",
        "  emission_scores = model.forward_on_instance(validation_dataset[i])['tag_logits']\n",
        "  n = len(emission_scores)\n",
        "  dp_table = [[0]*k for _ in range(n)]\n",
        "  backtracking_table = [[0]*k for _ in range(n)]\n",
        "  dp_table[0] = emission_scores[0]\n",
        "  for word_index in range(1, n):\n",
        "    for tag_index in range(k):\n",
        "      tmp = [0]*k\n",
        "      for j in range(k):\n",
        "        tmp[j] = dp_table[word_index-1][j] + trans_matrix[j][tag_index]\n",
        "      max_tmp = tmp[0]\n",
        "      max_ind = 0\n",
        "      for j in range(1, k):\n",
        "        if tmp[j] > max_tmp:\n",
        "          max_tmp = tmp[j]\n",
        "          max_ind = j\n",
        "      dp_table[word_index][tag_index] = emission_scores[word_index][tag_index] + max_tmp\n",
        "      backtracking_table[word_index][tag_index] = d[max_ind]\n",
        "  max_ = max(dp_table[-1])\n",
        "  max_index = dp_table[-1].index(max_)\n",
        "  tmp_path = [d[max_index]]\n",
        "  i = n - 1\n",
        "  while i > 0:\n",
        "    tmp_tag = backtracking_table[i][max_index]\n",
        "    tmp_path.append(tmp_tag)\n",
        "    i -= 1\n",
        "    max_index = list_tag.index(tmp_tag)\n",
        "  path.append(tmp_path[::-1])\n",
        "\n",
        "#path"
      ],
      "execution_count": 46,
      "outputs": []
    },
    {
      "cell_type": "code",
      "metadata": {
        "colab": {
          "base_uri": "https://localhost:8080/"
        },
        "id": "IqkyNjy6YXzl",
        "outputId": "d2efb463-277f-4ec5-81de-bcb79b2b1097"
      },
      "source": [
        "#count the violations again with viterbi output\n",
        "def violations_vi(path):\n",
        "  count = 0\n",
        "  for base in path:\n",
        "    if base[0] == 'I':\n",
        "      count += 1\n",
        "    for i in range(1, len(base)):\n",
        "      if base[i-1] == 'O':\n",
        "        if base[i][0] == 'I':\n",
        "          count += 1\n",
        "      else:\n",
        "        if (base[i][0] == 'I') and (base[i-1][1:] != base[i][1:]):\n",
        "          count += 1\n",
        "  return count\n",
        "\n",
        "violations_vi(path)"
      ],
      "execution_count": 47,
      "outputs": [
        {
          "output_type": "execute_result",
          "data": {
            "text/plain": [
              "0"
            ]
          },
          "metadata": {
            "tags": []
          },
          "execution_count": 47
        }
      ]
    },
    {
      "cell_type": "code",
      "metadata": {
        "colab": {
          "base_uri": "https://localhost:8080/"
        },
        "id": "oEgvI6PJZCao",
        "outputId": "57f0376e-ac52-4bab-b155-b8275ebed959"
      },
      "source": [
        "#calculate the precision, recall and f1 score again with viterbi output\n",
        "def span_stats_vi(tagged):\n",
        "  y_trues = []\n",
        "  for base in tagged:\n",
        "    y_true = []\n",
        "    for b in base:\n",
        "      word, tag, pred = b\n",
        "      y_true.append(tag)\n",
        "    y_trues.append(y_true)\n",
        "  precision = precision_score(y_trues, path)\n",
        "  recall = recall_score(y_trues, path)\n",
        "  f1 = f1_score(y_trues, path)\n",
        "  return {'precision': precision,\n",
        "          'recall': recall,\n",
        "          'f1': f1}\n",
        "print(span_stats_vi(baseline_output))"
      ],
      "execution_count": 48,
      "outputs": [
        {
          "output_type": "stream",
          "text": [
            "{'precision': 0.4222222222222222, 'recall': 0.4418604651162791, 'f1': 0.4318181818181818}\n"
          ],
          "name": "stdout"
        }
      ]
    }
  ]
}