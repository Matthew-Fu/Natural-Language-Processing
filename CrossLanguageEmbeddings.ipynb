{
  "nbformat": 4,
  "nbformat_minor": 0,
  "metadata": {
    "colab": {
      "name": "CrossLanguageEmbeddings.ipynb",
      "provenance": []
    },
    "kernelspec": {
      "name": "python3",
      "display_name": "Python 3"
    }
  },
  "cells": [
    {
      "cell_type": "markdown",
      "metadata": {
        "id": "oDsn_Motja8Q"
      },
      "source": [
        "# Cross-Language Word Embeddings\n",
        "\n",
        "We have mentioned, and will discuss in more detail this week, how we can reduce the dimensionality of word representations from their original vectors space to an embedding space on the order of a few hundred dimensions. Different modeling choices for word embeddings may be ultimately evaluated by the effectiveness of classifiers, parsers, and other inference models that use those embeddings.\n",
        "\n",
        "In this assignment, however, we will consider another common method of evaluating word embeddings: by judging the usefulness of pairwise distances between words in the embedding space.\n",
        "\n",
        "Follow along with the examples in this notebook, and implement the sections of code flagged with **TODO**."
      ]
    },
    {
      "cell_type": "code",
      "metadata": {
        "id": "UKm5cPMQ2xHU"
      },
      "source": [
        "import gensim\n",
        "import numpy as np\n",
        "from gensim.test.utils import datapath, get_tmpfile\n",
        "from gensim.models import Word2Vec\n",
        "from gensim.models.word2vec import LineSentence"
      ],
      "execution_count": 2,
      "outputs": []
    },
    {
      "cell_type": "markdown",
      "metadata": {
        "id": "sfKjYFDklB4c"
      },
      "source": [
        "We'll start by downloading a plain-text version of the Shakespeare plays we used for the first assignment."
      ]
    },
    {
      "cell_type": "code",
      "metadata": {
        "id": "Dw3bvl1yf5FB",
        "colab": {
          "base_uri": "https://localhost:8080/"
        },
        "outputId": "f7f15933-9de5-4631-ce15-b632708be053"
      },
      "source": [
        "!wget http://www.ccs.neu.edu/home/dasmith/courses/cs6120/shakespeare_plays.txt\n",
        "lines = [s.split() for s in open('shakespeare_plays.txt')]"
      ],
      "execution_count": 3,
      "outputs": [
        {
          "output_type": "stream",
          "text": [
            "--2021-04-16 23:01:55--  http://www.ccs.neu.edu/home/dasmith/courses/cs6120/shakespeare_plays.txt\n",
            "Resolving www.ccs.neu.edu (www.ccs.neu.edu)... 52.70.229.197\n",
            "Connecting to www.ccs.neu.edu (www.ccs.neu.edu)|52.70.229.197|:80... connected.\n",
            "HTTP request sent, awaiting response... 200 OK\n",
            "Length: 4746840 (4.5M) [text/plain]\n",
            "Saving to: ‘shakespeare_plays.txt’\n",
            "\n",
            "shakespeare_plays.t 100%[===================>]   4.53M  --.-KB/s    in 0.07s   \n",
            "\n",
            "2021-04-16 23:01:55 (68.8 MB/s) - ‘shakespeare_plays.txt’ saved [4746840/4746840]\n",
            "\n"
          ],
          "name": "stdout"
        }
      ]
    },
    {
      "cell_type": "markdown",
      "metadata": {
        "id": "5cZ52pEflKKM"
      },
      "source": [
        "Then, we'll estimate a simple word2vec model on the Shakespeare texts."
      ]
    },
    {
      "cell_type": "code",
      "metadata": {
        "id": "eXT5BNPs_zjM"
      },
      "source": [
        "model = Word2Vec(lines)"
      ],
      "execution_count": 4,
      "outputs": []
    },
    {
      "cell_type": "markdown",
      "metadata": {
        "id": "Fzt3lG1-lw33"
      },
      "source": [
        "Even with such a small training set size, you can perform some standard analogy tasks."
      ]
    },
    {
      "cell_type": "code",
      "metadata": {
        "id": "i4ruAqhKC3-R",
        "colab": {
          "base_uri": "https://localhost:8080/"
        },
        "outputId": "04ceae1f-9bd3-4792-aed6-fb95ab2f4049"
      },
      "source": [
        "model.wv.most_similar(positive=['king','woman'], negative=['man'])"
      ],
      "execution_count": 5,
      "outputs": [
        {
          "output_type": "execute_result",
          "data": {
            "text/plain": [
              "[('queen', 0.8016893863677979),\n",
              " ('prince', 0.7813111543655396),\n",
              " ('duke', 0.7290380001068115),\n",
              " ('warwick', 0.7129981517791748),\n",
              " ('york', 0.7128998041152954),\n",
              " ('clarence', 0.7102699875831604),\n",
              " ('princess', 0.70278400182724),\n",
              " ('son', 0.6930181980133057),\n",
              " ('gloucester', 0.6921982765197754),\n",
              " ('suffolk', 0.6908835172653198)]"
            ]
          },
          "metadata": {
            "tags": []
          },
          "execution_count": 5
        }
      ]
    },
    {
      "cell_type": "markdown",
      "metadata": {
        "id": "AJL45y5emjA9"
      },
      "source": [
        "For the rest of this assignment, we will focus on finding words with similar embeddings, both within and across languages. For example, what words are similar to the name of the title character of *Othello*?"
      ]
    },
    {
      "cell_type": "code",
      "metadata": {
        "id": "1EZGroU0KPyj",
        "colab": {
          "base_uri": "https://localhost:8080/"
        },
        "outputId": "e2c558bb-66fb-415e-cfda-210be408046e"
      },
      "source": [
        "model.wv.most_similar(positive=['othello'])\n",
        "#model.wv.most_similar(positive=['brutus'])"
      ],
      "execution_count": 6,
      "outputs": [
        {
          "output_type": "execute_result",
          "data": {
            "text/plain": [
              "[('desdemona', 0.961108386516571),\n",
              " ('iago', 0.9302796125411987),\n",
              " ('cleopatra', 0.9296098947525024),\n",
              " ('rosalind', 0.9256273508071899),\n",
              " ('imogen', 0.9237173795700073),\n",
              " ('cressida', 0.9197252988815308),\n",
              " ('fal', 0.9162404537200928),\n",
              " ('ham', 0.9103072881698608),\n",
              " ('jul', 0.900834321975708),\n",
              " ('pisanio', 0.8976864814758301)]"
            ]
          },
          "metadata": {
            "tags": []
          },
          "execution_count": 6
        }
      ]
    },
    {
      "cell_type": "markdown",
      "metadata": {
        "id": "UM2BT_7zZle3"
      },
      "source": [
        "This search uses cosine similarity. In the default API, you should see the same similarity between the words `othello` and `desdemona` as in the search results above."
      ]
    },
    {
      "cell_type": "code",
      "metadata": {
        "id": "-e32-u4zYFda",
        "colab": {
          "base_uri": "https://localhost:8080/"
        },
        "outputId": "60c72752-3eb5-4fe6-efe2-c6ea2d49b030"
      },
      "source": [
        "model.wv.similarity('othello', 'desdemona')"
      ],
      "execution_count": 7,
      "outputs": [
        {
          "output_type": "execute_result",
          "data": {
            "text/plain": [
              "0.9611084"
            ]
          },
          "metadata": {
            "tags": []
          },
          "execution_count": 7
        }
      ]
    },
    {
      "cell_type": "markdown",
      "metadata": {
        "id": "c49DwfAmZ6PU"
      },
      "source": [
        "**TODO**: Your **first task**, therefore, is to implement your own cosine similarity function so that you can reuse it outside of the context of the gensim model object."
      ]
    },
    {
      "cell_type": "code",
      "metadata": {
        "id": "rEj2PqpuZ5xs",
        "colab": {
          "base_uri": "https://localhost:8080/"
        },
        "outputId": "d2d69782-c205-43dd-c8f4-09ffd378d40e"
      },
      "source": [
        "## TODO: Implement cosim\n",
        "def cosim(v1, v2):\n",
        "  ## return cosine similarity between v1 and v2\n",
        "  return np.dot(v1, v2)/(np.dot(v1, v1) * np.dot(v2, v2))**0.5\n",
        "\n",
        "## This should give a result similar to model.wv.similarity:\n",
        "cosim(model.wv['othello'], model.wv['desdemona'])"
      ],
      "execution_count": 8,
      "outputs": [
        {
          "output_type": "execute_result",
          "data": {
            "text/plain": [
              "0.9611083708021116"
            ]
          },
          "metadata": {
            "tags": []
          },
          "execution_count": 8
        }
      ]
    },
    {
      "cell_type": "markdown",
      "metadata": {
        "id": "3TbDqBIHbHfB"
      },
      "source": [
        "## Evaluation\n",
        "\n",
        "We could collect a lot of human judgments about how similar pairs of words, or pairs of Shakespearean characters, are. Then we could compare different word-embedding models by their ability to replicate these human judgments.\n",
        "\n",
        "If we extend our ambition to multiple languages, however, we can use a word translation task to evaluate word embeddings.\n",
        "\n",
        "We will use a subset of [Facebook AI's FastText cross-language embeddings](https://fasttext.cc/docs/en/aligned-vectors.html) for several languages. Your task will be to compare English both to French, and to *one more language* from the following set: Arabic, German, Portuguese, Russian, Spanish, Vietnamese, and Chinese."
      ]
    },
    {
      "cell_type": "code",
      "metadata": {
        "id": "FC_FXRnfq1BO",
        "colab": {
          "base_uri": "https://localhost:8080/"
        },
        "outputId": "3ce9d7e3-6cb8-468c-dd64-3554aba54b09"
      },
      "source": [
        "!wget http://www.ccs.neu.edu/home/dasmith/courses/cs6120/30k.en.vec\n",
        "!wget http://www.ccs.neu.edu/home/dasmith/courses/cs6120/30k.fr.vec\n",
        "\n",
        "# TODO: uncomment at least one of these to work with another language\n",
        "!wget http://www.ccs.neu.edu/home/dasmith/courses/cs6120/30k.ar.vec\n",
        "!wget http://www.ccs.neu.edu/home/dasmith/courses/cs6120/30k.de.vec\n",
        "!wget http://www.ccs.neu.edu/home/dasmith/courses/cs6120/30k.pt.vec\n",
        "!wget http://www.ccs.neu.edu/home/dasmith/courses/cs6120/30k.ru.vec\n",
        "!wget http://www.ccs.neu.edu/home/dasmith/courses/cs6120/30k.es.vec\n",
        "!wget http://www.ccs.neu.edu/home/dasmith/courses/cs6120/30k.vi.vec\n",
        "!wget http://www.ccs.neu.edu/home/dasmith/courses/cs6120/30k.zh.vec"
      ],
      "execution_count": 9,
      "outputs": [
        {
          "output_type": "stream",
          "text": [
            "--2021-04-16 23:02:28--  http://www.ccs.neu.edu/home/dasmith/courses/cs6120/30k.en.vec\n",
            "Resolving www.ccs.neu.edu (www.ccs.neu.edu)... 52.70.229.197\n",
            "Connecting to www.ccs.neu.edu (www.ccs.neu.edu)|52.70.229.197|:80... connected.\n",
            "HTTP request sent, awaiting response... 200 OK\n",
            "Length: 67681172 (65M)\n",
            "Saving to: ‘30k.en.vec’\n",
            "\n",
            "30k.en.vec          100%[===================>]  64.54M   293MB/s    in 0.2s    \n",
            "\n",
            "2021-04-16 23:02:29 (293 MB/s) - ‘30k.en.vec’ saved [67681172/67681172]\n",
            "\n",
            "--2021-04-16 23:02:29--  http://www.ccs.neu.edu/home/dasmith/courses/cs6120/30k.fr.vec\n",
            "Resolving www.ccs.neu.edu (www.ccs.neu.edu)... 52.70.229.197\n",
            "Connecting to www.ccs.neu.edu (www.ccs.neu.edu)|52.70.229.197|:80... connected.\n",
            "HTTP request sent, awaiting response... 200 OK\n",
            "Length: 67802327 (65M)\n",
            "Saving to: ‘30k.fr.vec’\n",
            "\n",
            "30k.fr.vec          100%[===================>]  64.66M   235MB/s    in 0.3s    \n",
            "\n",
            "2021-04-16 23:02:29 (235 MB/s) - ‘30k.fr.vec’ saved [67802327/67802327]\n",
            "\n",
            "--2021-04-16 23:02:29--  http://www.ccs.neu.edu/home/dasmith/courses/cs6120/30k.ar.vec\n",
            "Resolving www.ccs.neu.edu (www.ccs.neu.edu)... 52.70.229.197\n",
            "Connecting to www.ccs.neu.edu (www.ccs.neu.edu)|52.70.229.197|:80... connected.\n",
            "HTTP request sent, awaiting response... 200 OK\n",
            "Length: 67934954 (65M)\n",
            "Saving to: ‘30k.ar.vec’\n",
            "\n",
            "30k.ar.vec          100%[===================>]  64.79M   177MB/s    in 0.4s    \n",
            "\n",
            "2021-04-16 23:02:29 (177 MB/s) - ‘30k.ar.vec’ saved [67934954/67934954]\n",
            "\n",
            "--2021-04-16 23:02:29--  http://www.ccs.neu.edu/home/dasmith/courses/cs6120/30k.de.vec\n",
            "Resolving www.ccs.neu.edu (www.ccs.neu.edu)... 52.70.229.197\n",
            "Connecting to www.ccs.neu.edu (www.ccs.neu.edu)|52.70.229.197|:80... connected.\n",
            "HTTP request sent, awaiting response... 200 OK\n",
            "Length: 67798315 (65M)\n",
            "Saving to: ‘30k.de.vec’\n",
            "\n",
            "30k.de.vec          100%[===================>]  64.66M   103MB/s    in 0.6s    \n",
            "\n",
            "2021-04-16 23:02:30 (103 MB/s) - ‘30k.de.vec’ saved [67798315/67798315]\n",
            "\n",
            "--2021-04-16 23:02:30--  http://www.ccs.neu.edu/home/dasmith/courses/cs6120/30k.pt.vec\n",
            "Resolving www.ccs.neu.edu (www.ccs.neu.edu)... 52.70.229.197\n",
            "Connecting to www.ccs.neu.edu (www.ccs.neu.edu)|52.70.229.197|:80... connected.\n",
            "HTTP request sent, awaiting response... 200 OK\n",
            "Length: 67767960 (65M)\n",
            "Saving to: ‘30k.pt.vec’\n",
            "\n",
            "30k.pt.vec          100%[===================>]  64.63M  95.9MB/s    in 0.7s    \n",
            "\n",
            "2021-04-16 23:02:31 (95.9 MB/s) - ‘30k.pt.vec’ saved [67767960/67767960]\n",
            "\n",
            "--2021-04-16 23:02:31--  http://www.ccs.neu.edu/home/dasmith/courses/cs6120/30k.ru.vec\n",
            "Resolving www.ccs.neu.edu (www.ccs.neu.edu)... 52.70.229.197\n",
            "Connecting to www.ccs.neu.edu (www.ccs.neu.edu)|52.70.229.197|:80... connected.\n",
            "HTTP request sent, awaiting response... 200 OK\n",
            "Length: 68012679 (65M)\n",
            "Saving to: ‘30k.ru.vec’\n",
            "\n",
            "30k.ru.vec          100%[===================>]  64.86M   102MB/s    in 0.6s    \n",
            "\n",
            "2021-04-16 23:02:32 (102 MB/s) - ‘30k.ru.vec’ saved [68012679/68012679]\n",
            "\n",
            "--2021-04-16 23:02:32--  http://www.ccs.neu.edu/home/dasmith/courses/cs6120/30k.es.vec\n",
            "Resolving www.ccs.neu.edu (www.ccs.neu.edu)... 52.70.229.197\n",
            "Connecting to www.ccs.neu.edu (www.ccs.neu.edu)|52.70.229.197|:80... connected.\n",
            "HTTP request sent, awaiting response... 200 OK\n",
            "Length: 67762853 (65M) [application/ecmascript]\n",
            "Saving to: ‘30k.es.vec’\n",
            "\n",
            "30k.es.vec          100%[===================>]  64.62M   196MB/s    in 0.3s    \n",
            "\n",
            "2021-04-16 23:02:32 (196 MB/s) - ‘30k.es.vec’ saved [67762853/67762853]\n",
            "\n",
            "--2021-04-16 23:02:32--  http://www.ccs.neu.edu/home/dasmith/courses/cs6120/30k.vi.vec\n",
            "Resolving www.ccs.neu.edu (www.ccs.neu.edu)... 52.70.229.197\n",
            "Connecting to www.ccs.neu.edu (www.ccs.neu.edu)|52.70.229.197|:80... connected.\n",
            "HTTP request sent, awaiting response... 200 OK\n",
            "Length: 67722742 (65M)\n",
            "Saving to: ‘30k.vi.vec’\n",
            "\n",
            "30k.vi.vec          100%[===================>]  64.58M   180MB/s    in 0.4s    \n",
            "\n",
            "2021-04-16 23:02:33 (180 MB/s) - ‘30k.vi.vec’ saved [67722742/67722742]\n",
            "\n",
            "--2021-04-16 23:02:33--  http://www.ccs.neu.edu/home/dasmith/courses/cs6120/30k.zh.vec\n",
            "Resolving www.ccs.neu.edu (www.ccs.neu.edu)... 52.70.229.197\n",
            "Connecting to www.ccs.neu.edu (www.ccs.neu.edu)|52.70.229.197|:80... connected.\n",
            "HTTP request sent, awaiting response... 200 OK\n",
            "Length: 67627343 (64M)\n",
            "Saving to: ‘30k.zh.vec’\n",
            "\n",
            "30k.zh.vec          100%[===================>]  64.49M   105MB/s    in 0.6s    \n",
            "\n",
            "2021-04-16 23:02:34 (105 MB/s) - ‘30k.zh.vec’ saved [67627343/67627343]\n",
            "\n"
          ],
          "name": "stdout"
        }
      ]
    },
    {
      "cell_type": "markdown",
      "metadata": {
        "id": "nmuIvGpNrJPe"
      },
      "source": [
        "We'll start by loading the word vectors from their textual file format to a dictionary mapping words to numpy arrays."
      ]
    },
    {
      "cell_type": "code",
      "metadata": {
        "id": "VbWORXkP2Vvn"
      },
      "source": [
        "def vecref(s):\n",
        "  (word, srec) = s.split(' ', 1)\n",
        "  return (word, np.fromstring(srec, sep=' '))\n",
        "\n",
        "def ftvectors(fname):\n",
        "  return { k:v for (k, v) in [vecref(s) for s in open(fname)] if len(v) > 1} \n",
        "\n",
        "envec = ftvectors('30k.en.vec')\n",
        "frvec = ftvectors('30k.fr.vec')\n",
        "\n",
        "# TODO: load vectors for one more language, such as zhvec (Chinese)\n",
        "arvec = ftvectors('30k.ar.vec')\n",
        "devec = ftvectors('30k.de.vec')\n",
        "ptvec = ftvectors('30k.pt.vec')\n",
        "ruvec = ftvectors('30k.ru.vec')\n",
        "esvec = ftvectors('30k.es.vec')\n",
        "vivec = ftvectors('30k.vi.vec')\n",
        "zhvec = ftvectors('30k.zh.vec')"
      ],
      "execution_count": 10,
      "outputs": []
    },
    {
      "cell_type": "markdown",
      "metadata": {
        "id": "j88E1JdueZHc"
      },
      "source": [
        "**TODO**: Your next task is to write a simple function that takes a vector and a dictionary of vectors and finds the most similar item in the dictionary. For this assignment, a linear scan through the dictionary using your `cosim` function from above is acceptible."
      ]
    },
    {
      "cell_type": "code",
      "metadata": {
        "id": "gmdirYOjoSWV",
        "colab": {
          "base_uri": "https://localhost:8080/"
        },
        "outputId": "698cd6a4-2c2e-4738-8c32-aa4ba4af90cc"
      },
      "source": [
        "## TODO: implement this search function\n",
        "def mostSimilar(vec, vecDict):\n",
        "  ## Use your cosim function from above\n",
        "  mostSimilar = ''\n",
        "  similarity = 0\n",
        "  for key in vecDict:\n",
        "    tmp_key = key\n",
        "    tmp_similarity = cosim(vec, vecDict[tmp_key])\n",
        "    if tmp_similarity > similarity:\n",
        "      mostSimilar = key\n",
        "      similarity = tmp_similarity\n",
        "  return (mostSimilar, similarity)\n",
        "\n",
        "## some example searches\n",
        "print([mostSimilar(envec[e], frvec) for e in ['computer', 'germany', 'matrix', 'physics', 'yeast']])\n",
        "print([mostSimilar(envec[e], devec) for e in ['computer', 'germany', 'matrix', 'physics', 'yeast']])\n",
        "print([mostSimilar(envec[e], zhvec) for e in ['computer', 'germany', 'matrix', 'physics', 'yeast']])\n",
        "print([mostSimilar(envec[e], arvec) for e in ['computer', 'germany', 'matrix', 'physics', 'yeast']])\n",
        "print([mostSimilar(envec[e], ptvec) for e in ['computer', 'germany', 'matrix', 'physics', 'yeast']])\n",
        "print([mostSimilar(envec[e], ruvec) for e in ['computer', 'germany', 'matrix', 'physics', 'yeast']])\n",
        "print([mostSimilar(envec[e], esvec) for e in ['computer', 'germany', 'matrix', 'physics', 'yeast']])\n",
        "print([mostSimilar(envec[e], vivec) for e in ['computer', 'germany', 'matrix', 'physics', 'yeast']])"
      ],
      "execution_count": 11,
      "outputs": [
        {
          "output_type": "stream",
          "text": [
            "[('informatique', 0.5023827767603763), ('allemagne', 0.5937184138759639), ('matrice', 0.5088361302065516), ('physique', 0.4555543434796394), ('fermentation', 0.3504105196166514)]\n",
            "[('computer', 0.5037721476432345), ('deutschland', 0.4705668805911338), ('matrix', 0.5157118468900325), ('physik', 0.5837534244545665), ('enzyme', 0.2826869534747046)]\n",
            "[('電腦', 0.6331072804288355), ('德國', 0.6117215949997674), ('矩陣', 0.4826503662879594), ('物理', 0.539459807891487), ('酵母', 0.5094100865393028)]\n",
            "[('الحاسوب', 0.4701278935881928), ('ألمانيا', 0.5330396598131463), ('مصفوفة', 0.34179170709793727), ('الفيزياء', 0.5058640608484845), ('بروتين', 0.2576853070061513)]\n",
            "[('computador', 0.4988965701007087), ('alemanha', 0.6288992279001664), ('matrix', 0.4204704252830658), ('astrofísica', 0.5025296240252473), ('fermentação', 0.40297918812091316)]\n",
            "[('компьютер', 0.40957792244343183), ('германия', 0.5066204406798313), ('матрица', 0.39972205911502523), ('физики', 0.532605548844492), ('белков', 0.25252585117716175)]\n",
            "[('computador', 0.5013697495254124), ('alemania', 0.6352798713596076), ('matriz', 0.4784864671614966), ('física', 0.4784845095690362), ('levadura', 0.5114917452709493)]\n",
            "[('computer', 0.388988011547494), ('germany', 0.440973555668265), ('matrix', 0.29934483475010143), ('physics', 0.4353407795707892), ('enzyme', 0.2784901007370392)]\n"
          ],
          "name": "stdout"
        }
      ]
    },
    {
      "cell_type": "markdown",
      "metadata": {
        "id": "NIKUD5qxpUMB"
      },
      "source": [
        "Some matches make more sense than others. Note that `computer` most closely matches `informatique`, the French term for *computer science*. If you looked further down the list, you would see `ordinateur`, the term for *computer*. This is one weakness of a focus only on embeddings for word *types* independent of context.\n",
        "\n",
        "To evalute cross-language embeddings more broadly, we'll look at a dataset of links between Wikipedia articles."
      ]
    },
    {
      "cell_type": "code",
      "metadata": {
        "id": "az10sIFwsEUP",
        "colab": {
          "base_uri": "https://localhost:8080/"
        },
        "outputId": "81056ff5-afdb-4100-d97d-8596c7e1d7c1"
      },
      "source": [
        "!wget http://www.ccs.neu.edu/home/dasmith/courses/cs6120/links.tab\n",
        "links = [s.split() for s in open('links.tab')]"
      ],
      "execution_count": 12,
      "outputs": [
        {
          "output_type": "stream",
          "text": [
            "--2021-04-16 23:03:08--  http://www.ccs.neu.edu/home/dasmith/courses/cs6120/links.tab\n",
            "Resolving www.ccs.neu.edu (www.ccs.neu.edu)... 52.70.229.197\n",
            "Connecting to www.ccs.neu.edu (www.ccs.neu.edu)|52.70.229.197|:80... connected.\n",
            "HTTP request sent, awaiting response... 200 OK\n",
            "Length: 1408915 (1.3M)\n",
            "Saving to: ‘links.tab’\n",
            "\n",
            "\rlinks.tab             0%[                    ]       0  --.-KB/s               \rlinks.tab           100%[===================>]   1.34M  --.-KB/s    in 0.05s   \n",
            "\n",
            "2021-04-16 23:03:08 (28.2 MB/s) - ‘links.tab’ saved [1408915/1408915]\n",
            "\n"
          ],
          "name": "stdout"
        }
      ]
    },
    {
      "cell_type": "markdown",
      "metadata": {
        "id": "sqHq0hFCv8NY"
      },
      "source": [
        "This `links` variable consists of triples of `(English term, language, term in that language)`. For example, here is the link between English `academy` and French `académie`:"
      ]
    },
    {
      "cell_type": "code",
      "metadata": {
        "id": "RQ7eusdxtdsq",
        "colab": {
          "base_uri": "https://localhost:8080/"
        },
        "outputId": "727c9309-021e-4d87-d034-cf9714fcf1bb"
      },
      "source": [
        "links[302]"
      ],
      "execution_count": 13,
      "outputs": [
        {
          "output_type": "execute_result",
          "data": {
            "text/plain": [
              "['academy', 'fr', 'académie']"
            ]
          },
          "metadata": {
            "tags": []
          },
          "execution_count": 13
        }
      ]
    },
    {
      "cell_type": "markdown",
      "metadata": {
        "id": "bYEdOQbmwql3"
      },
      "source": [
        "**TODO**: Evaluate the English and French embeddings by computing the proportion of English Wikipedia articles whose corresponding French article is also the closest word in embedding space. Skip English articles not covered by the word embedding dictionary. Since many articles, e.g., about named entities have the same title in English and French, compute the baseline accuracy achieved by simply echoing the English title as if it were French. Remember to iterate only over English Wikipedia articles, not the entire embedding dictionary."
      ]
    },
    {
      "cell_type": "code",
      "metadata": {
        "id": "RJrTJ3ja91Z4",
        "colab": {
          "base_uri": "https://localhost:8080/"
        },
        "outputId": "f76ecd6d-59ca-4884-a652-285936547f35"
      },
      "source": [
        "## TODO: Compute English-French Wikipedia retrieval accuracy.\n",
        "accuracy = 0\n",
        "baselineAccuracy = 0\n",
        "\n",
        "# Calculate the baseline accuracy of French\n",
        "words_lang = [link for link in links if link[1] == 'fr']\n",
        "n = len(words_lang)\n",
        "BaselineAccuracy = sum(word[0] == word[2] for word in words_lang)/n\n",
        "print(BaselineAccuracy)\n",
        "\n",
        "# calculate the accuracy of French\n",
        "count = 0\n",
        "for word in words_lang:\n",
        "  similar_word, similarity = mostSimilar(envec[word[0]], frvec)\n",
        "  if similar_word == word[2]:\n",
        "    count += 1\n",
        "accuracy = count/n\n",
        "print(accuracy)"
      ],
      "execution_count": 15,
      "outputs": [
        {
          "output_type": "stream",
          "text": [
            "0.6742324450298915\n",
            "0.5359205593271862\n"
          ],
          "name": "stdout"
        }
      ]
    },
    {
      "cell_type": "markdown",
      "metadata": {
        "id": "7hqd1buq-OEo"
      },
      "source": [
        "**TODO**: Compute accuracy and baseline (identity function) acccuracy for Englsih and another language besides French. Although the baseline will be lower for languages not written in the Roman alphabet (i.e., Arabic or Chinese), there are still many articles in those languages with headwords written in Roman characters."
      ]
    },
    {
      "cell_type": "code",
      "metadata": {
        "id": "ZjnKtHya-jmj",
        "colab": {
          "base_uri": "https://localhost:8080/"
        },
        "outputId": "f6c577f5-35e0-4288-ae6f-d4a929e9c18f"
      },
      "source": [
        "## TODO: Compute English-German Wikipedia retrieval accuracy.\n",
        "accuracy_1 = 0\n",
        "baselineAccuracy_1 = 0\n",
        "\n",
        "# Calculate the baseline accuracy of German\n",
        "words_lang_1 = [link for link in links if link[1] == 'de']\n",
        "n = len(words_lang_1)\n",
        "BaselineAccuracy_1 = sum(word[0] == word[2] for word in words_lang_1)/n\n",
        "print(BaselineAccuracy_1)\n",
        "\n",
        "# calculate the accuracy of German\n",
        "count_1 = 0\n",
        "for word in words_lang_1:\n",
        "  similar_word, similarity = mostSimilar(envec[word[0]], devec)\n",
        "  if similar_word == word[2]:\n",
        "    count_1 += 1\n",
        "\n",
        "accuracy_1 = count_1/n\n",
        "print(accuracy_1)\n"
      ],
      "execution_count": 16,
      "outputs": [
        {
          "output_type": "stream",
          "text": [
            "0.6652764220427722\n",
            "0.36959801224598454\n"
          ],
          "name": "stdout"
        }
      ]
    },
    {
      "cell_type": "code",
      "metadata": {
        "colab": {
          "base_uri": "https://localhost:8080/"
        },
        "id": "umwNlL87v_NG",
        "outputId": "982ae65d-f2f3-474e-ddd2-542ed3a34ffe"
      },
      "source": [
        "## TODO: Compute English-Chinese Wikipedia retrieval accuracy.\n",
        "accuracy_2 = 0\n",
        "baselineAccuracy_2 = 0\n",
        "\n",
        "# Calculate the baseline accuracy of Chinese\n",
        "words_lang_2 = [link for link in links if link[1] == 'zh']\n",
        "n = len(words_lang_2)\n",
        "BaselineAccuracy_2 = sum(word[0] == word[2] for word in words_lang_2)/n\n",
        "print(BaselineAccuracy_2)\n",
        "\n",
        "# calculate the accuracy of Chinese\n",
        "count_2 = 0\n",
        "for word in words_lang_2:\n",
        "  similar_word, similarity = mostSimilar(envec[word[0]], zhvec)\n",
        "  if similar_word == word[2]:\n",
        "    count_2 += 1\n",
        "\n",
        "accuracy_2 = count_2/n\n",
        "print(accuracy_2)\n"
      ],
      "execution_count": 17,
      "outputs": [
        {
          "output_type": "stream",
          "text": [
            "0.06740602045225406\n",
            "0.13639637044505257\n"
          ],
          "name": "stdout"
        }
      ]
    },
    {
      "cell_type": "code",
      "metadata": {
        "colab": {
          "base_uri": "https://localhost:8080/"
        },
        "id": "sL3XmKceFIhJ",
        "outputId": "fa6e34ea-15ca-45cb-8695-f70e17faa3ca"
      },
      "source": [
        "## TODO: Compute English-Arabic Wikipedia retrieval accuracy.\n",
        "accuracy_3 = 0\n",
        "baselineAccuracy_3 = 0\n",
        "\n",
        "# Calculate the baseline accuracy of Arabic\n",
        "words_lang_3 = [link for link in links if link[1] == 'ar']\n",
        "n = len(words_lang_3)\n",
        "BaselineAccuracy_3 = sum(word[0] == word[2] for word in words_lang_3)/n\n",
        "print(BaselineAccuracy_3)\n",
        "\n",
        "# calculate the accuracy of Arabic\n",
        "count_3 = 0\n",
        "for word in words_lang_3:\n",
        "  similar_word, similarity = mostSimilar(envec[word[0]], arvec)\n",
        "  if similar_word == word[2]:\n",
        "    count_3 += 1\n",
        "\n",
        "accuracy_3 = count_3/n\n",
        "print(accuracy_3)"
      ],
      "execution_count": 18,
      "outputs": [
        {
          "output_type": "stream",
          "text": [
            "0.006582155046318869\n",
            "0.2067284251584593\n"
          ],
          "name": "stdout"
        }
      ]
    },
    {
      "cell_type": "code",
      "metadata": {
        "colab": {
          "base_uri": "https://localhost:8080/"
        },
        "id": "sioU03xnI0wB",
        "outputId": "17b54135-0008-4e38-90c3-7138f90ffb2c"
      },
      "source": [
        "## TODO: Compute English-Portuguese Wikipedia retrieval accuracy.\n",
        "accuracy_4 = 0\n",
        "baselineAccuracy_4 = 0\n",
        "\n",
        "# Calculate the baseline accuracy of Portuguese\n",
        "words_lang_4 = [link for link in links if link[1] == 'pt']\n",
        "n = len(words_lang_4)\n",
        "BaselineAccuracy_4 = sum(word[0] == word[2] for word in words_lang_4)/n\n",
        "print(BaselineAccuracy_4)\n",
        "\n",
        "# calculate the accuracy of Portuguese\n",
        "count_4 = 0\n",
        "for word in words_lang_4:\n",
        "  similar_word, similarity = mostSimilar(envec[word[0]], ptvec)\n",
        "  if similar_word == word[2]:\n",
        "    count_4 += 1\n",
        "\n",
        "accuracy_4 = count_4/n\n",
        "print(accuracy_4)"
      ],
      "execution_count": 19,
      "outputs": [
        {
          "output_type": "stream",
          "text": [
            "0.5266257963697559\n",
            "0.49465079937492484\n"
          ],
          "name": "stdout"
        }
      ]
    },
    {
      "cell_type": "code",
      "metadata": {
        "colab": {
          "base_uri": "https://localhost:8080/"
        },
        "id": "3uceTS_ZPmKi",
        "outputId": "2de7f57c-9948-4ad9-cb33-58cdadb6d02c"
      },
      "source": [
        "## TODO: Compute English-Russian Wikipedia retrieval accuracy.\n",
        "accuracy_5 = 0\n",
        "baselineAccuracy_5 = 0\n",
        "\n",
        "# Calculate the baseline accuracy of Russian\n",
        "words_lang_5 = [link for link in links if link[1] == 'ru']\n",
        "n = len(words_lang_5)\n",
        "BaselineAccuracy_5 = sum(word[0] == word[2] for word in words_lang_5)/n\n",
        "print(BaselineAccuracy_5)\n",
        "\n",
        "# calculate the accuracy of Russian\n",
        "count_5 = 0\n",
        "for word in words_lang_5:\n",
        "  similar_word, similarity = mostSimilar(envec[word[0]], ruvec)\n",
        "  if similar_word == word[2]:\n",
        "    count_5 += 1\n",
        "\n",
        "accuracy_5 = count_5/n\n",
        "print(accuracy_5)"
      ],
      "execution_count": 20,
      "outputs": [
        {
          "output_type": "stream",
          "text": [
            "0.07121905432359497\n",
            "0.19183386131643787\n"
          ],
          "name": "stdout"
        }
      ]
    },
    {
      "cell_type": "code",
      "metadata": {
        "colab": {
          "base_uri": "https://localhost:8080/"
        },
        "id": "GvSJtid9S1Nc",
        "outputId": "18d90f10-a530-4781-abed-5e3f85aad452"
      },
      "source": [
        "## TODO: Compute English-Spanish Wikipedia retrieval accuracy.\n",
        "accuracy_6 = 0\n",
        "baselineAccuracy_6 = 0\n",
        "\n",
        "# Calculate the baseline accuracy of Spanish\n",
        "words_lang_6 = [link for link in links if link[1] == 'es']\n",
        "n = len(words_lang_6)\n",
        "BaselineAccuracy_6 = sum(word[0] == word[2] for word in words_lang_6)/n\n",
        "print(BaselineAccuracy_6)\n",
        "\n",
        "# calculate the accuracy of Spanish\n",
        "count_6 = 0\n",
        "for word in words_lang_6:\n",
        "  similar_word, similarity = mostSimilar(envec[word[0]], esvec)\n",
        "  if similar_word == word[2]:\n",
        "    count_6 += 1\n",
        "\n",
        "accuracy_6 = count_6/n\n",
        "print(accuracy_6)"
      ],
      "execution_count": 21,
      "outputs": [
        {
          "output_type": "stream",
          "text": [
            "0.5173403193612774\n",
            "0.5432884231536926\n"
          ],
          "name": "stdout"
        }
      ]
    },
    {
      "cell_type": "code",
      "metadata": {
        "colab": {
          "base_uri": "https://localhost:8080/"
        },
        "id": "BSzXB10OTGLZ",
        "outputId": "74f4f7d5-c4c5-494a-bc15-cc3db08182b9"
      },
      "source": [
        "## TODO: Compute English-Vietnamese Wikipedia retrieval accuracy.\n",
        "accuracy_7 = 0\n",
        "baselineAccuracy_7 = 0\n",
        "\n",
        "# Calculate the baseline accuracy of Vietnamese\n",
        "words_lang_7 = [link for link in links if link[1] == 'vi']\n",
        "n = len(words_lang_7)\n",
        "BaselineAccuracy_7 = sum(word[0] == word[2] for word in words_lang_7)/n\n",
        "print(BaselineAccuracy_7)\n",
        "\n",
        "# calculate the accuracy of Vietnamese\n",
        "count_7 = 0\n",
        "for word in words_lang_7:\n",
        "  similar_word, similarity = mostSimilar(envec[word[0]], vivec)\n",
        "  if similar_word == word[2]:\n",
        "    count_7 += 1\n",
        "\n",
        "accuracy_7 = count_7/n\n",
        "print(accuracy_7)"
      ],
      "execution_count": 22,
      "outputs": [
        {
          "output_type": "stream",
          "text": [
            "0.7713297463489623\n",
            "0.5780169100691775\n"
          ],
          "name": "stdout"
        }
      ]
    },
    {
      "cell_type": "markdown",
      "metadata": {
        "id": "E6z01sufFPJh"
      },
      "source": [
        "Further evaluation, if you are interested, could involve looking at the $k$ nearest neighbors of each English term to compute \"recall at 10\" or \"mean reciprocal rank at 10\"."
      ]
    }
  ]
}